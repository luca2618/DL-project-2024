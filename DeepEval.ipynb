{
 "cells": [
  {
   "cell_type": "markdown",
   "metadata": {},
   "source": [
    "# Requirements"
   ]
  },
  {
   "cell_type": "code",
   "execution_count": 11,
   "metadata": {},
   "outputs": [],
   "source": [
    "# ! pip install -U deepeval\n",
    "# ! pip install numpy\n",
    "# ! pip install transformers\n",
    "# ! pip3 install torch torchvision torchaudio"
   ]
  },
  {
   "cell_type": "code",
   "execution_count": 86,
   "metadata": {},
   "outputs": [],
   "source": [
    "# ! pip install sentencepiece\n",
    "# ! pip install tokenizers\n",
    "# ! pip install accelerate\n",
    "# ! pip install bitsandbytes\n",
    "# ! pip install vllm\n",
    "# ! pip install fraction\n",
    "# ! pip install protobuf\n",
    "# ! pip install termtables"
   ]
  },
  {
   "cell_type": "code",
   "execution_count": 2,
   "metadata": {},
   "outputs": [
    {
     "name": "stderr",
     "output_type": "stream",
     "text": [
      "/zhome/25/7/186664/dl/lib64/python3.9/site-packages/deepeval/__init__.py:53: UserWarning: You are using deepeval version 1.5.9, however version 2.0.1 is available. You should consider upgrading via the \"pip install --upgrade deepeval\" command.\n",
      "  warnings.warn(\n"
     ]
    },
    {
     "name": "stdout",
     "output_type": "stream",
     "text": [
      "Using device: cuda\n"
     ]
    }
   ],
   "source": [
    "from deepeval.benchmarks import MMLU, TruthfulQA\n",
    "from deepeval.benchmarks.tasks import MMLUTask, TruthfulQATask\n",
    "from deepeval.benchmarks.modes import TruthfulQAMode\n",
    "from transformers import AutoModelForCausalLM, AutoTokenizer\n",
    "from deepeval.models.base_model import DeepEvalBaseLLM\n",
    "from typing import List\n",
    "import torch\n",
    "import pandas as pd\n",
    "import json\n",
    "import termtables as tt\n",
    "import numpy as np\n",
    "\n",
    "torch_device = 'cuda' if torch.cuda.is_available() else 'cpu'\n",
    "print(f\"Using device: {torch_device}\")"
   ]
  },
  {
   "cell_type": "markdown",
   "metadata": {},
   "source": [
    "---"
   ]
  },
  {
   "cell_type": "markdown",
   "metadata": {},
   "source": [
    "# Model Loading"
   ]
  },
  {
   "cell_type": "code",
   "execution_count": null,
   "metadata": {},
   "outputs": [],
   "source": [
    "# Reset loaded models to avoid memory issues\n",
    "model = None\n",
    "tokenizer = None\n",
    "mistral_7b_instruct = None\n",
    "\n",
    "bio_model = None\n",
    "bio_tokenizer = None\n",
    "biomistral_7b = None\n",
    "\n",
    "math_model = None\n",
    "math_tokenizer = None\n",
    "metamath_7b = None\n",
    "\n",
    "# Set cache directory\n",
    "blackhole_dir = #black_dir\n",
    "\n",
    "# Load chosen model\n",
    "# model = AutoModelForCausalLM.from_pretrained(\"mistralai/Mistral-7B-v0.1\")\n",
    "# tokenizer = AutoTokenizer.from_pretrained(\"mistralai/Mistral-7B-v0.1\")\n",
    "\n",
    "# model = AutoModelForCausalLM.from_pretrained(\"mistralai/Mistral-7B-Instruct-v0.1\", cache_dir=blackhole_dir)\n",
    "# tokenizer = AutoTokenizer.from_pretrained(\"mistralai/Mistral-7B-Instruct-v0.1\", cache_dir=blackhole_dir)\n",
    "\n",
    "bio_tokenizer = AutoTokenizer.from_pretrained(\"BioMistral/BioMistral-7B\", cache_dir=blackhole_dir)\n",
    "bio_model = AutoModelForCausalLM.from_pretrained(\"BioMistral/BioMistral-7B\", cache_dir=blackhole_dir)\n",
    "\n",
    "# math_model = AutoModelForCausalLM.from_pretrained(\"meta-math/MetaMath-Mistral-7B\", cache_dir=blackhole_dir)\n",
    "# math_tokenizer = AutoTokenizer.from_pretrained(\"meta-math/MetaMath-Mistral-7B\", cache_dir=blackhole_dir)"
   ]
  },
  {
   "cell_type": "code",
   "execution_count": 4,
   "metadata": {},
   "outputs": [],
   "source": [
    "# Define wrapper class for Mistral 7B Instruct\n",
    "class Mistral7BInstruct(DeepEvalBaseLLM):\n",
    "    def __init__(\n",
    "        self,\n",
    "        model,\n",
    "        tokenizer\n",
    "    ):\n",
    "        self.model = model\n",
    "        self.tokenizer = tokenizer\n",
    "\n",
    "    def load_model(self):\n",
    "        return self.model\n",
    "\n",
    "    def generate(self, prompt: str) -> str:\n",
    "        model = self.load_model()\n",
    "\n",
    "        device = \"cuda\" # the device to load the model onto \n",
    "\n",
    "        prompt = prompt[:-55] # len(\"\\n\\nOutput 'A', 'B', 'C', or 'D'. Full answer not needed.\") = 55, so we remove that from the prompt\n",
    "\n",
    "        model_inputs = self.tokenizer([prompt], return_tensors=\"pt\").to(device)\n",
    "        model.to(device)\n",
    "\n",
    "        generated_ids = model.generate(**model_inputs, max_new_tokens=1, do_sample=True, pad_token_id=self.tokenizer.eos_token_id, temperature=0.0001)\n",
    "        decoded_tokens = self.tokenizer.batch_decode(generated_ids)[0]\n",
    "        new_tokens = decoded_tokens[len(prompt)+4:].strip()\n",
    "        return new_tokens\n",
    "\n",
    "    async def a_generate(self, prompt: str) -> str:\n",
    "        return self.generate(prompt)\n",
    "\n",
    "    # This is optional.\n",
    "    def batch_generate(self, prompts: List[str]) -> List[str]:\n",
    "        model = self.load_model()\n",
    "        device = \"cuda\" # the device to load the model onto\n",
    "\n",
    "        prompts = [prompt[:-55] for prompt in prompts]\n",
    "\n",
    "        model_inputs = self.tokenizer(prompts, return_tensors=\"pt\").to(device)\n",
    "        model.to(device)\n",
    "\n",
    "        generated_ids = model.generate(**model_inputs, max_new_tokens=1, do_sample=True, pad_token_id=self.tokenizer.eos_token_id, temperature=0.0001)\n",
    "        return self.tokenizer.batch_decode(generated_ids)\n",
    "\n",
    "    def get_model_name(self):\n",
    "        return \"Mistral 7B Instruct\"\n",
    "\n",
    "# Define wrapper class for BioMistral 7B\n",
    "class BioMistral7B(DeepEvalBaseLLM):\n",
    "    def __init__(\n",
    "        self,\n",
    "        model,\n",
    "        tokenizer\n",
    "    ):\n",
    "        self.model = model\n",
    "        self.tokenizer = tokenizer\n",
    "\n",
    "    def load_model(self):\n",
    "        return self.model\n",
    "\n",
    "    def generate(self, prompt: str) -> str:\n",
    "        model = self.load_model()\n",
    "\n",
    "        device = \"cuda\" # the device to load the model onto \n",
    "\n",
    "        prompt = prompt[:-55] # len(\"\\n\\nOutput 'A', 'B', 'C', or 'D'. Full answer not needed.\") = 55, so we remove that from the prompt\n",
    "\n",
    "        model_inputs = self.tokenizer([prompt], return_tensors=\"pt\").to(device)\n",
    "        model.to(device)\n",
    "\n",
    "        generated_ids = model.generate(**model_inputs, max_new_tokens=1, do_sample=True, pad_token_id=self.tokenizer.eos_token_id, temperature=0.0001)\n",
    "        decoded_tokens = self.tokenizer.batch_decode(generated_ids)[0]\n",
    "        new_tokens = decoded_tokens[len(prompt)+4:].strip()\n",
    "        return new_tokens\n",
    "\n",
    "    async def a_generate(self, prompt: str) -> str:\n",
    "        return self.generate(prompt)\n",
    "\n",
    "    # This is optional.\n",
    "    def batch_generate(self, prompts: List[str]) -> List[str]:\n",
    "        model = self.load_model()\n",
    "        device = \"cuda\" # the device to load the model onto\n",
    "\n",
    "        prompts = [prompt[:-55] for prompt in prompts]\n",
    "\n",
    "        model_inputs = self.tokenizer(prompts, return_tensors=\"pt\").to(device)\n",
    "        model.to(device)\n",
    "\n",
    "        generated_ids = model.generate(**model_inputs, max_new_tokens=1, do_sample=True, pad_token_id=self.tokenizer.eos_token_id, temperature=0.0001)\n",
    "        return self.tokenizer.batch_decode(generated_ids)\n",
    "\n",
    "    def get_model_name(self):\n",
    "        return \"BioMistral 7B\"\n",
    "\n",
    "# Define wrapper class for MetaMath 7B\n",
    "class MetaMath7B(DeepEvalBaseLLM):\n",
    "    def __init__(\n",
    "        self,\n",
    "        model,\n",
    "        tokenizer\n",
    "    ):\n",
    "        self.model = model\n",
    "        self.tokenizer = tokenizer\n",
    "\n",
    "    def load_model(self):\n",
    "        return self.model\n",
    "\n",
    "    def generate(self, prompt: str) -> str:\n",
    "        model = self.load_model()\n",
    "\n",
    "        device = \"cuda\" # the device to load the model onto \n",
    "\n",
    "        # prompt = \"[INST] \" + prompt + \" [/INST]\"\n",
    "        # prompt = prompt + \"\\nYou will only respond with a JSON object with the keys Explanation and Answer Choice, where Explanation is a string and Answer Choice is either 'A', 'B', 'C' or 'D'.\"\n",
    "        # prompt = \"\"\"Please answer the following question strictly in JSON format. Your response must contain only a JSON object \n",
    "        # with the keys 'Explanation' and 'Answer_choice'. The 'Answer_choice' should be one of four options: 'A', 'B', 'C' or 'D'. \n",
    "        # No extra text, tokens or explanation outside the JSON format is allowed.\\n\n",
    "        # Examples on how to answer questions:\\n\n",
    "        # What color is the sky?\\nA. green\\nB. blue \\nC. red\\nD. orange\\nAnswer: \n",
    "        # {\"Explanation\": \"The color of the sky depends on the time of day, the weather, and the location. In general, the sky is blue during the day, but it can also be other colors such as gray or black during certain weather conditions. Therefore, the answer cannot be determined with the given information.\",\n",
    "        # \"Answer_choice\": \"D\"}\n",
    "        \n",
    "        # Answer the following question with the json format and nothing else then stop generating:\\n\"\"\" + prompt[:-57]\n",
    "\n",
    "        # prompt = \"\"\"\n",
    "        # The correct answer to the following question is formatted as a JSON object with the keys \"Explanation\" and \"Answer_Choice\". The \"Explanation\" key should contain a string explaining the answer, and the \"Answer_Choice\" key should contain the letter of the correct answer, either A, B, C or D. For example, if the correct answer is \"A\", the JSON object should look like this: {\"Explanation\": \"This is the explanation.\", \"Answer_Choice\": \"A\"}. I want you to only print out the value of the key \"Answer_Choice\". The question is as follows:\\n \n",
    "        # \"\"\" + prompt[:-57]\n",
    "\n",
    "        model_inputs = self.tokenizer([prompt], return_tensors=\"pt\").to(device)\n",
    "        model.to(device)\n",
    "\n",
    "        generated_ids = model.generate(**model_inputs, max_new_tokens=50, do_sample=True, pad_token_id=self.tokenizer.eos_token_id, temperature=0.0001)\n",
    "        decoded_tokens = self.tokenizer.batch_decode(generated_ids)[0]\n",
    "        # return decoded_tokens[len(prompt)-50:]\n",
    "        # return decoded_tokens\n",
    "        new_tokens = decoded_tokens[len(prompt)+5:]#.strip()\n",
    "        if \"The answer is: \" in new_tokens:\n",
    "            new_tokens = new_tokens[new_tokens.find(\"The answer is: \")+15:]\n",
    "        new_tokens = new_tokens.replace(\"</s>\", \"\")\n",
    "        if new_tokens.strip() == \"\":\n",
    "            return \"\"\n",
    "        answer_choices = [prompt[prompt.find(\"A. \"):prompt.find(\"\\n\", prompt.find(\"A. \"))].strip(), \n",
    "                          prompt[prompt.find(\"B. \"):prompt.find(\"\\n\", prompt.find(\"B. \"))].strip(), \n",
    "                            prompt[prompt.find(\"C. \"):prompt.find(\"\\n\", prompt.find(\"C. \"))].strip(), \n",
    "                            prompt[prompt.find(\"D. \"):prompt.find(\"\\n\", prompt.find(\"D. \"))].strip()]\n",
    "        \n",
    "        def find_answer_choice(new_tokens, answer_choices):\n",
    "            if new_tokens in [\"A\", \"B\", \"C\", \"D\"]:\n",
    "                return new_tokens\n",
    "            for answer_choice in answer_choices:\n",
    "                if new_tokens in answer_choice:\n",
    "                    return answer_choice[0]\n",
    "            return None\n",
    "        fac = find_answer_choice(new_tokens, answer_choices)\n",
    "        if fac:\n",
    "            return fac\n",
    "\n",
    "        if new_tokens[-1] == \".\":\n",
    "            new_tokens = new_tokens[:-1]\n",
    "            fac = find_answer_choice(new_tokens, answer_choices)\n",
    "            if fac:\n",
    "                return fac\n",
    "        if \"\\\\text{\" in new_tokens:\n",
    "            new_tokens = new_tokens.replace(\"\\\\text{\", \"\")\n",
    "            new_tokens = new_tokens[:-1]\n",
    "            fac = find_answer_choice(new_tokens, answer_choices)\n",
    "            if fac:\n",
    "                return fac\n",
    "        if new_tokens[0] == \"(\" or new_tokens[0] == \"[\":\n",
    "            new_tokens = new_tokens[1:-1]\n",
    "            fac = find_answer_choice(new_tokens, answer_choices)\n",
    "            if fac:\n",
    "                return fac\n",
    "        return new_tokens\n",
    "        new_tokens = new_tokens[new_tokens.find(\"{\"):new_tokens.rfind(\"}\")+1]\n",
    "        try:\n",
    "            new_tokens_json = json.loads(new_tokens, strict=False)\n",
    "            return new_tokens_json['Answer_choice']\n",
    "        except:\n",
    "            new_tokens = new_tokens.replace(\"{\", \"\").replace(\"}\", \"\")\n",
    "            new_tokens = \"{\" + new_tokens + \"}\"\n",
    "            print(new_tokens)\n",
    "            return new_tokens\n",
    "        return decoded_tokens[len(prompt):]\n",
    "        return decoded_tokens[len(prompt)+5:]\n",
    "        return self.tokenizer.batch_decode(generated_ids)[0]\n",
    "\n",
    "    async def a_generate(self, prompt: str) -> str:\n",
    "        return self.generate(prompt)\n",
    "\n",
    "    # This is optional.\n",
    "    def batch_generate(self, promtps: List[str]) -> List[str]:\n",
    "        model = self.load_model()\n",
    "        device = \"cuda\" # the device to load the model onto\n",
    "\n",
    "        model_inputs = self.tokenizer(promtps, return_tensors=\"pt\").to(device)\n",
    "        model.to(device)\n",
    "\n",
    "        generated_ids = model.generate(**model_inputs, max_new_tokens=100, do_sample=True)\n",
    "        return self.tokenizer.batch_decode(generated_ids)\n",
    "\n",
    "    def get_model_name(self):\n",
    "        return \"MetaMath Mistral 7B\""
   ]
  },
  {
   "cell_type": "code",
   "execution_count": 5,
   "metadata": {},
   "outputs": [
    {
     "name": "stdout",
     "output_type": "stream",
     "text": [
      "BioMistral 7B loaded\n"
     ]
    }
   ],
   "source": [
    "# Check if model is loaded and initialize wrapper class\n",
    "model_name = None\n",
    "\n",
    "if model != None and tokenizer != None:\n",
    "    mistral_7b_instruct = Mistral7BInstruct(model=model, tokenizer=tokenizer)\n",
    "    model_name = 'Mistral 7B Instruct'\n",
    "elif bio_model != None and bio_tokenizer != None:\n",
    "    biomistral_7b = BioMistral7B(model=bio_model, tokenizer=bio_tokenizer)\n",
    "    model_name = 'BioMistral 7B'\n",
    "elif math_model != None and math_tokenizer != None:\n",
    "    metamath_7b = MetaMath7B(model=math_model, tokenizer=math_tokenizer)\n",
    "    model_name = 'MetaMath 7B'\n",
    "else:\n",
    "    print(\"No model loaded\")\n",
    "print(f'{model_name} loaded')"
   ]
  },
  {
   "cell_type": "code",
   "execution_count": 41,
   "metadata": {},
   "outputs": [],
   "source": [
    "# MetaMath\n",
    "# We want to evaluate the model by calculating its overall accuracy (this is bad, at around ~12%),\n",
    "# as well as its accuracy when it answers in the correct format (A, B, C or D) - which is hopefully better."
   ]
  },
  {
   "cell_type": "code",
   "execution_count": 6,
   "metadata": {},
   "outputs": [],
   "source": [
    "def quick_test(model_name):\n",
    "    if model_name == 'Mistral 7B Instruct':\n",
    "        print('### Q1 (Bio) ###')\n",
    "        print(mistral_7b_instruct.generate(\"In a population of giraffes, an environmental change occurs that favors individuals that are tallest. As a result, more of the taller individuals are able to obtain nutrients and survive to pass along their genetic information. This is an example of\\nA. directional selection.\\nB. stabilizing selection.\\nC. sexual selection.\\nD. disruptive selection.\\nAnswer:\\n\\nOutput 'A', 'B', 'C', or 'D'. Full answer not needed.\"))\n",
    "        print('---')\n",
    "        print('### Q2 (Bio) ###')\n",
    "        print(mistral_7b_instruct.generate(\"Which of the changes below following the start codon in an mRNA would most likely have the greatest deleterious effect?\\nA. a deletion of a single nucleotide\\nB. a deletion of a nucleotide triplet\\nC. a single nucleotide substitution of the nucleotide occupying the first codon position\\nD. a single nucleotide substitution of the nucleotide occupying the third codon position\\nAnswer:\\n\\nOutput 'A', 'B', 'C', or 'D'. Full answer not needed.\"))\n",
    "        print('---')\n",
    "        print('### Q3 (Bio) ###')\n",
    "        print(mistral_7b_instruct.generate(\"The energy given up by electrons as they move through the electron transport chain is used to\\nA. break down glucose\\nB. make glucose\\nC. produce ATP\\nD. make NADH\\nAnswer:\\n\\nOutput 'A', 'B', 'C', or 'D'. Full answer not needed.\"))\n",
    "        print('---')\n",
    "        print('### Q1 (Math) ###')\n",
    "        print(mistral_7b_instruct.generate(\"If a metamath_7bn P with vertices at (– 2, – 4), (– 4, 1), (–1, 4), (2, 4), and (3, 0) is reflected across the line y = x to get a new pentagon, P’, then one of the vertices of P’ is\\nA. (0, – 3)\\nB. (4, 1)\\nC. (2, 2)\\nD. (– 4, –2)\\nAnswer:\\n\\nOutput 'A', 'B', 'C', or 'D'. Full answer not needed.\"))\n",
    "    elif model_name == 'BioMistral 7B':\n",
    "        print('### Q1 (Bio) ###')\n",
    "        print(biomistral_7b.generate(\"In a population of giraffes, an environmental change occurs that favors individuals that are tallest. As a result, more of the taller individuals are able to obtain nutrients and survive to pass along their genetic information. This is an example of\\nA. directional selection.\\nB. stabilizing selection.\\nC. sexual selection.\\nD. disruptive selection.\\nAnswer:\\n\\nOutput 'A', 'B', 'C', or 'D'. Full answer not needed.\"))\n",
    "        print('---')\n",
    "        print('### Q2 (Bio) ###')\n",
    "        print(biomistral_7b.generate(\"Which of the changes below following the start codon in an mRNA would most likely have the greatest deleterious effect?\\nA. a deletion of a single nucleotide\\nB. a deletion of a nucleotide triplet\\nC. a single nucleotide substitution of the nucleotide occupying the first codon position\\nD. a single nucleotide substitution of the nucleotide occupying the third codon position\\nAnswer:\\n\\nOutput 'A', 'B', 'C', or 'D'. Full answer not needed.\"))\n",
    "        print('---')\n",
    "        print('### Q3 (Bio) ###')\n",
    "        print(biomistral_7b.generate(\"The energy given up by electrons as they move through the electron transport chain is used to\\nA. break down glucose\\nB. make glucose\\nC. produce ATP\\nD. make NADH\\nAnswer:\\n\\nOutput 'A', 'B', 'C', or 'D'. Full answer not needed.\"))\n",
    "        print('---')\n",
    "        print('### Q1 (Math) ###')\n",
    "        print(biomistral_7b.generate(\"If a metamath_7bn P with vertices at (– 2, – 4), (– 4, 1), (–1, 4), (2, 4), and (3, 0) is reflected across the line y = x to get a new pentagon, P’, then one of the vertices of P’ is\\nA. (0, – 3)\\nB. (4, 1)\\nC. (2, 2)\\nD. (– 4, –2)\\nAnswer:\\n\\nOutput 'A', 'B', 'C', or 'D'. Full answer not needed.\"))\n",
    "    elif model_name == 'MetaMath 7B':\n",
    "        print('### Q1 (Bio) ###')\n",
    "        print(metamath_7b.generate(\"In a population of giraffes, an environmental change occurs that favors individuals that are tallest. As a result, more of the taller individuals are able to obtain nutrients and survive to pass along their genetic information. This is an example of\\nA. directional selection.\\nB. stabilizing selection.\\nC. sexual selection.\\nD. disruptive selection.\\nAnswer:\\n\\nOutput 'A', 'B', 'C', or 'D'. Full answer not needed.\"))\n",
    "        print('---')\n",
    "        print('### Q2 (Bio) ###')\n",
    "        print(metamath_7b.generate(\"Which of the changes below following the start codon in an mRNA would most likely have the greatest deleterious effect?\\nA. a deletion of a single nucleotide\\nB. a deletion of a nucleotide triplet\\nC. a single nucleotide substitution of the nucleotide occupying the first codon position\\nD. a single nucleotide substitution of the nucleotide occupying the third codon position\\nAnswer:\\n\\nOutput 'A', 'B', 'C', or 'D'. Full answer not needed.\"))\n",
    "        print('---')\n",
    "        print('### Q3 (Bio) ###')\n",
    "        print(metamath_7b.generate(\"The energy given up by electrons as they move through the electron transport chain is used to\\nA. break down glucose\\nB. make glucose\\nC. produce ATP\\nD. make NADH\\nAnswer:\\n\\nOutput 'A', 'B', 'C', or 'D'. Full answer not needed.\"))\n",
    "        print('---')\n",
    "        print('### Q1 (Math) ###')\n",
    "        print(metamath_7b.generate(\"If a metamath_7bn P with vertices at (– 2, – 4), (– 4, 1), (–1, 4), (2, 4), and (3, 0) is reflected across the line y = x to get a new pentagon, P’, then one of the vertices of P’ is\\nA. (0, – 3)\\nB. (4, 1)\\nC. (2, 2)\\nD. (– 4, –2)\\nAnswer:\\n\\nOutput 'A', 'B', 'C', or 'D'. Full answer not needed.\"))\n",
    "    else:\n",
    "        print('No model loaded')"
   ]
  },
  {
   "cell_type": "code",
   "execution_count": 7,
   "metadata": {},
   "outputs": [
    {
     "name": "stdout",
     "output_type": "stream",
     "text": [
      "### Q1 (Bio) ###\n",
      "A\n",
      "---\n",
      "### Q2 (Bio) ###\n",
      "B\n",
      "---\n",
      "### Q3 (Bio) ###\n",
      "C\n",
      "---\n",
      "### Q1 (Math) ###\n",
      "A\n"
     ]
    }
   ],
   "source": [
    "quick_test(model_name)"
   ]
  },
  {
   "cell_type": "code",
   "execution_count": 7,
   "metadata": {},
   "outputs": [],
   "source": [
    "# print(metamath_7b.generate(\"What is 5 minus 2?\\nA. 3\\nB. 5\\nC. 25\\nD. 50\\nAnswer:\\n\\nOutput 'A', 'B', 'C', or 'D'. Full answer not needed.\"))\n",
    "# print('---')\n",
    "# print(metamath_7b.generate(\"The following are multiple choice questions (with answers) about high school biology.\\n\\nWhich of the following is not a way to form recombinant DNA?\\nA. Translation\\nB. Conjugation\\nC. Specialized transduction\\nD. Transformation\\nAnswer:\\n\\nOutput 'A', 'B', 'C', or 'D'. Full answer not needed.\"))\n",
    "# print('---')\n",
    "# print(metamath_7b.generate(\"If a metamath_7bn P with vertices at (– 2, – 4), (– 4, 1), (–1, 4), (2, 4), and (3, 0) is reflected across the line y = x to get a new pentagon, P’, then one of the vertices of P’ is\\nA. (0, – 3)\\nB. (4, 1)\\nC. (2, 2)\\nD. (– 4, –2)\\nAnswer:\\n\\nOutput 'A', 'B', 'C', or 'D'. Full answer not needed.\"))"
   ]
  },
  {
   "cell_type": "markdown",
   "metadata": {},
   "source": [
    "---"
   ]
  },
  {
   "cell_type": "markdown",
   "metadata": {},
   "source": [
    "# Model Evaluation"
   ]
  },
  {
   "cell_type": "code",
   "execution_count": 8,
   "metadata": {},
   "outputs": [],
   "source": [
    "# Define evaluation benchmarks\n",
    "n_shots = 0\n",
    "\n",
    "mm_tasks_math = [MMLUTask.HIGH_SCHOOL_MATHEMATICS,\n",
    "                 MMLUTask.ABSTRACT_ALGEBRA,\n",
    "                 MMLUTask.MACHINE_LEARNING,\n",
    "                 MMLUTask.ELEMENTARY_MATHEMATICS,\n",
    "                 MMLUTask.COLLEGE_MATHEMATICS,\n",
    "                 MMLUTask.FORMAL_LOGIC,\n",
    "                 MMLUTask.HIGH_SCHOOL_STATISTICS]\n",
    "\n",
    "mm_tasks_bio = [MMLUTask.CLINICAL_KNOWLEDGE,\n",
    "                MMLUTask.MEDICAL_GENETICS,\n",
    "                MMLUTask.ANATOMY,\n",
    "                MMLUTask.PROFESSIONAL_MEDICINE,\n",
    "                MMLUTask.COLLEGE_BIOLOGY,\n",
    "                MMLUTask.COLLEGE_MEDICINE,\n",
    "                MMLUTask.HIGH_SCHOOL_BIOLOGY]\n",
    "\n",
    "mm_tasks_all = mm_tasks_math + mm_tasks_bio\n",
    "\n",
    "tqa_tasks = [TruthfulQATask.SCIENCE]\n",
    "tqa_mode = TruthfulQAMode.MC1 # Use MC1 as a benchmark for pinpoint accuracy and MC2 for depth of understanding.\n",
    "\n",
    "# Define benchmark with specific tasks and shots\n",
    "instruct_benchmark = MMLU(\n",
    "    tasks=mm_tasks_all,\n",
    "    n_shots=n_shots\n",
    ")\n",
    "\n",
    "math_benchmark = MMLU(\n",
    "    tasks=mm_tasks_all,\n",
    "    n_shots=n_shots\n",
    ")\n",
    "\n",
    "bio_benchmark = MMLU(\n",
    "    tasks=mm_tasks_all,\n",
    "    n_shots=n_shots\n",
    ")\n",
    "\n",
    "TQABenchmark = TruthfulQA(\n",
    "    tasks=tqa_tasks,\n",
    "    mode=tqa_mode\n",
    ")"
   ]
  },
  {
   "cell_type": "code",
   "execution_count": null,
   "metadata": {},
   "outputs": [
    {
     "name": "stderr",
     "output_type": "stream",
     "text": [
      "Processing high_school_mathematics: 100%|█████| 270/270 [00:40<00:00,  6.60it/s]\n"
     ]
    },
    {
     "name": "stdout",
     "output_type": "stream",
     "text": [
      "MMLU Task Accuracy (task=high_school_mathematics): 0.3037037037037037\n"
     ]
    },
    {
     "data": {
      "application/vnd.jupyter.widget-view+json": {
       "model_id": "13f47f1a06134a02bca2ff9555343840",
       "version_major": 2,
       "version_minor": 0
      },
      "text/plain": [
       "Generating test split:   0%|          | 0/100 [00:00<?, ? examples/s]"
      ]
     },
     "metadata": {},
     "output_type": "display_data"
    },
    {
     "data": {
      "application/vnd.jupyter.widget-view+json": {
       "model_id": "fb4d9bc06af8436b847bfda42d4a9d5d",
       "version_major": 2,
       "version_minor": 0
      },
      "text/plain": [
       "Generating validation split:   0%|          | 0/11 [00:00<?, ? examples/s]"
      ]
     },
     "metadata": {},
     "output_type": "display_data"
    },
    {
     "data": {
      "application/vnd.jupyter.widget-view+json": {
       "model_id": "5238f75bdb7e4b4fa978eafaed1bf7ea",
       "version_major": 2,
       "version_minor": 0
      },
      "text/plain": [
       "Generating train split:   0%|          | 0/5 [00:00<?, ? examples/s]"
      ]
     },
     "metadata": {},
     "output_type": "display_data"
    },
    {
     "name": "stderr",
     "output_type": "stream",
     "text": [
      "Processing abstract_algebra: 100%|████████████| 100/100 [00:13<00:00,  7.24it/s]\n"
     ]
    },
    {
     "name": "stdout",
     "output_type": "stream",
     "text": [
      "MMLU Task Accuracy (task=abstract_algebra): 0.33\n"
     ]
    },
    {
     "data": {
      "application/vnd.jupyter.widget-view+json": {
       "model_id": "e0d0e8a8dd524f0b8b75b68576a6d56b",
       "version_major": 2,
       "version_minor": 0
      },
      "text/plain": [
       "Generating test split:   0%|          | 0/112 [00:00<?, ? examples/s]"
      ]
     },
     "metadata": {},
     "output_type": "display_data"
    },
    {
     "data": {
      "application/vnd.jupyter.widget-view+json": {
       "model_id": "d20959bed4a84198a07342653e21867b",
       "version_major": 2,
       "version_minor": 0
      },
      "text/plain": [
       "Generating validation split:   0%|          | 0/11 [00:00<?, ? examples/s]"
      ]
     },
     "metadata": {},
     "output_type": "display_data"
    },
    {
     "data": {
      "application/vnd.jupyter.widget-view+json": {
       "model_id": "4bfe69f7deb447f1a29b6865dc6f138f",
       "version_major": 2,
       "version_minor": 0
      },
      "text/plain": [
       "Generating train split:   0%|          | 0/5 [00:00<?, ? examples/s]"
      ]
     },
     "metadata": {},
     "output_type": "display_data"
    },
    {
     "name": "stderr",
     "output_type": "stream",
     "text": [
      "Processing machine_learning: 100%|████████████| 112/112 [00:17<00:00,  6.49it/s]\n"
     ]
    },
    {
     "name": "stdout",
     "output_type": "stream",
     "text": [
      "MMLU Task Accuracy (task=machine_learning): 0.45535714285714285\n"
     ]
    },
    {
     "data": {
      "application/vnd.jupyter.widget-view+json": {
       "model_id": "844bdeeb4e98478aa7cdc75f5f6bc1ed",
       "version_major": 2,
       "version_minor": 0
      },
      "text/plain": [
       "Generating test split:   0%|          | 0/378 [00:00<?, ? examples/s]"
      ]
     },
     "metadata": {},
     "output_type": "display_data"
    },
    {
     "data": {
      "application/vnd.jupyter.widget-view+json": {
       "model_id": "c15a97ba34ad40a5b93e85696df768d0",
       "version_major": 2,
       "version_minor": 0
      },
      "text/plain": [
       "Generating validation split:   0%|          | 0/41 [00:00<?, ? examples/s]"
      ]
     },
     "metadata": {},
     "output_type": "display_data"
    },
    {
     "data": {
      "application/vnd.jupyter.widget-view+json": {
       "model_id": "c909004401ed4aa38d55c03c4c8b4a91",
       "version_major": 2,
       "version_minor": 0
      },
      "text/plain": [
       "Generating train split:   0%|          | 0/5 [00:00<?, ? examples/s]"
      ]
     },
     "metadata": {},
     "output_type": "display_data"
    },
    {
     "name": "stderr",
     "output_type": "stream",
     "text": [
      "Processing elementary_mathematics: 100%|██████| 378/378 [00:55<00:00,  6.85it/s]\n"
     ]
    },
    {
     "name": "stdout",
     "output_type": "stream",
     "text": [
      "MMLU Task Accuracy (task=elementary_mathematics): 0.3412698412698413\n"
     ]
    },
    {
     "data": {
      "application/vnd.jupyter.widget-view+json": {
       "model_id": "cb1e19ba1e57453c90666982ee26c949",
       "version_major": 2,
       "version_minor": 0
      },
      "text/plain": [
       "Generating test split:   0%|          | 0/100 [00:00<?, ? examples/s]"
      ]
     },
     "metadata": {},
     "output_type": "display_data"
    },
    {
     "data": {
      "application/vnd.jupyter.widget-view+json": {
       "model_id": "c10d50ad64e14229a627d5a1e7600cb0",
       "version_major": 2,
       "version_minor": 0
      },
      "text/plain": [
       "Generating validation split:   0%|          | 0/11 [00:00<?, ? examples/s]"
      ]
     },
     "metadata": {},
     "output_type": "display_data"
    },
    {
     "data": {
      "application/vnd.jupyter.widget-view+json": {
       "model_id": "35021d345b084dddb66a5db4e4680525",
       "version_major": 2,
       "version_minor": 0
      },
      "text/plain": [
       "Generating train split:   0%|          | 0/5 [00:00<?, ? examples/s]"
      ]
     },
     "metadata": {},
     "output_type": "display_data"
    },
    {
     "name": "stderr",
     "output_type": "stream",
     "text": [
      "Processing college_mathematics: 100%|█████████| 100/100 [00:15<00:00,  6.30it/s]\n"
     ]
    },
    {
     "name": "stdout",
     "output_type": "stream",
     "text": [
      "MMLU Task Accuracy (task=college_mathematics): 0.38\n"
     ]
    },
    {
     "data": {
      "application/vnd.jupyter.widget-view+json": {
       "model_id": "21343762774c452c954602c4edf12147",
       "version_major": 2,
       "version_minor": 0
      },
      "text/plain": [
       "Generating test split:   0%|          | 0/126 [00:00<?, ? examples/s]"
      ]
     },
     "metadata": {},
     "output_type": "display_data"
    },
    {
     "data": {
      "application/vnd.jupyter.widget-view+json": {
       "model_id": "fbbff591ff0f4f059cb1b1fc27a53267",
       "version_major": 2,
       "version_minor": 0
      },
      "text/plain": [
       "Generating validation split:   0%|          | 0/14 [00:00<?, ? examples/s]"
      ]
     },
     "metadata": {},
     "output_type": "display_data"
    },
    {
     "data": {
      "application/vnd.jupyter.widget-view+json": {
       "model_id": "6cdae47e3d4d49f1ad4c6d5cbe39b090",
       "version_major": 2,
       "version_minor": 0
      },
      "text/plain": [
       "Generating train split:   0%|          | 0/5 [00:00<?, ? examples/s]"
      ]
     },
     "metadata": {},
     "output_type": "display_data"
    },
    {
     "name": "stderr",
     "output_type": "stream",
     "text": [
      "Processing formal_logic: 100%|████████████████| 126/126 [00:24<00:00,  5.10it/s]\n"
     ]
    },
    {
     "name": "stdout",
     "output_type": "stream",
     "text": [
      "MMLU Task Accuracy (task=formal_logic): 0.35714285714285715\n"
     ]
    },
    {
     "data": {
      "application/vnd.jupyter.widget-view+json": {
       "model_id": "9f23dc41d06f402b835b71994f1c8b99",
       "version_major": 2,
       "version_minor": 0
      },
      "text/plain": [
       "Generating test split:   0%|          | 0/216 [00:00<?, ? examples/s]"
      ]
     },
     "metadata": {},
     "output_type": "display_data"
    },
    {
     "data": {
      "application/vnd.jupyter.widget-view+json": {
       "model_id": "c3b640d1c70742088a00c7d9dea030b8",
       "version_major": 2,
       "version_minor": 0
      },
      "text/plain": [
       "Generating validation split:   0%|          | 0/23 [00:00<?, ? examples/s]"
      ]
     },
     "metadata": {},
     "output_type": "display_data"
    },
    {
     "data": {
      "application/vnd.jupyter.widget-view+json": {
       "model_id": "52dbafdd12de4202bd338ebc107cdc51",
       "version_major": 2,
       "version_minor": 0
      },
      "text/plain": [
       "Generating train split:   0%|          | 0/5 [00:00<?, ? examples/s]"
      ]
     },
     "metadata": {},
     "output_type": "display_data"
    },
    {
     "name": "stderr",
     "output_type": "stream",
     "text": [
      "Processing high_school_statistics: 100%|██████| 216/216 [00:45<00:00,  4.78it/s]\n"
     ]
    },
    {
     "name": "stdout",
     "output_type": "stream",
     "text": [
      "MMLU Task Accuracy (task=high_school_statistics): 0.4074074074074074\n"
     ]
    },
    {
     "data": {
      "application/vnd.jupyter.widget-view+json": {
       "model_id": "b167010a70204d0cb33708f0819937b8",
       "version_major": 2,
       "version_minor": 0
      },
      "text/plain": [
       "Generating test split:   0%|          | 0/265 [00:00<?, ? examples/s]"
      ]
     },
     "metadata": {},
     "output_type": "display_data"
    },
    {
     "data": {
      "application/vnd.jupyter.widget-view+json": {
       "model_id": "69d7b74a28c446c895974ea5c5087c0e",
       "version_major": 2,
       "version_minor": 0
      },
      "text/plain": [
       "Generating validation split:   0%|          | 0/29 [00:00<?, ? examples/s]"
      ]
     },
     "metadata": {},
     "output_type": "display_data"
    },
    {
     "data": {
      "application/vnd.jupyter.widget-view+json": {
       "model_id": "d5f2c3e288a44489a3387d9ce9df52c9",
       "version_major": 2,
       "version_minor": 0
      },
      "text/plain": [
       "Generating train split:   0%|          | 0/5 [00:00<?, ? examples/s]"
      ]
     },
     "metadata": {},
     "output_type": "display_data"
    },
    {
     "name": "stderr",
     "output_type": "stream",
     "text": [
      "Processing clinical_knowledge: 100%|██████████| 265/265 [00:37<00:00,  7.06it/s]\n"
     ]
    },
    {
     "name": "stdout",
     "output_type": "stream",
     "text": [
      "MMLU Task Accuracy (task=clinical_knowledge): 0.6075471698113207\n"
     ]
    },
    {
     "name": "stderr",
     "output_type": "stream",
     "text": [
      "Processing medical_genetics: 100%|████████████| 100/100 [00:13<00:00,  7.38it/s]\n"
     ]
    },
    {
     "name": "stdout",
     "output_type": "stream",
     "text": [
      "MMLU Task Accuracy (task=medical_genetics): 0.62\n"
     ]
    },
    {
     "name": "stderr",
     "output_type": "stream",
     "text": [
      "Processing anatomy: 100%|█████████████████████| 135/135 [00:19<00:00,  7.01it/s]\n"
     ]
    },
    {
     "name": "stdout",
     "output_type": "stream",
     "text": [
      "MMLU Task Accuracy (task=anatomy): 0.45925925925925926\n"
     ]
    },
    {
     "name": "stderr",
     "output_type": "stream",
     "text": [
      "Processing professional_medicine: 100%|███████| 272/272 [01:21<00:00,  3.32it/s]\n"
     ]
    },
    {
     "name": "stdout",
     "output_type": "stream",
     "text": [
      "MMLU Task Accuracy (task=professional_medicine): 0.5625\n"
     ]
    },
    {
     "name": "stderr",
     "output_type": "stream",
     "text": [
      "Processing college_biology: 100%|█████████████| 144/144 [00:23<00:00,  6.15it/s]\n"
     ]
    },
    {
     "name": "stdout",
     "output_type": "stream",
     "text": [
      "MMLU Task Accuracy (task=college_biology): 0.5902777777777778\n"
     ]
    },
    {
     "name": "stderr",
     "output_type": "stream",
     "text": [
      "Processing college_medicine: 100%|████████████| 173/173 [00:34<00:00,  5.00it/s]\n"
     ]
    },
    {
     "name": "stdout",
     "output_type": "stream",
     "text": [
      "MMLU Task Accuracy (task=college_medicine): 0.49710982658959535\n"
     ]
    },
    {
     "name": "stderr",
     "output_type": "stream",
     "text": [
      "Processing high_school_biology: 100%|█████████| 310/310 [00:51<00:00,  6.07it/s]"
     ]
    },
    {
     "name": "stdout",
     "output_type": "stream",
     "text": [
      "MMLU Task Accuracy (task=high_school_biology): 0.6387096774193548\n",
      "Overall MMLU Accuracy: 0.47130692336171787\n",
      "--------------------------------------------------\n",
      "Overall score for Mistral 7B Instruct on all tasks: 0.47130692336171787\n"
     ]
    },
    {
     "name": "stderr",
     "output_type": "stream",
     "text": [
      "\n"
     ]
    }
   ],
   "source": [
    "instruct_benchmark.evaluate(model=mistral_7b_instruct)\n",
    "instruct_results = instruct_benchmark.predictions\n",
    "print('-'*50)\n",
    "print(f'Overall score for {model_name} on all tasks: {instruct_benchmark.overall_score}')"
   ]
  },
  {
   "cell_type": "code",
   "execution_count": null,
   "metadata": {},
   "outputs": [
    {
     "name": "stderr",
     "output_type": "stream",
     "text": [
      "Processing high_school_mathematics: 100%|█████| 270/270 [02:12<00:00,  2.04it/s]"
     ]
    },
    {
     "name": "stdout",
     "output_type": "stream",
     "text": [
      "MMLU Task Accuracy (task=high_school_mathematics): 0.1259259259259259\n",
      "Overall MMLU Accuracy: 0.1259259259259259\n",
      "0.1259259259259259\n"
     ]
    },
    {
     "name": "stderr",
     "output_type": "stream",
     "text": [
      "\n"
     ]
    }
   ],
   "source": [
    "# Replace 'mistral_7b' with your own custom model\n",
    "math_benchmark.evaluate(model=metamath_7b)\n",
    "math_results = math_benchmark.predictions\n",
    "print('-'*50)\n",
    "print(f'Overall score for {metamath_7b.get_model_name()}: {math_benchmark.overall_score}')"
   ]
  },
  {
   "cell_type": "code",
   "execution_count": 9,
   "metadata": {},
   "outputs": [
    {
     "name": "stderr",
     "output_type": "stream",
     "text": [
      "Processing high_school_mathematics: 100%|█████| 270/270 [00:41<00:00,  6.58it/s]\n"
     ]
    },
    {
     "name": "stdout",
     "output_type": "stream",
     "text": [
      "MMLU Task Accuracy (task=high_school_mathematics): 0.3148148148148148\n"
     ]
    },
    {
     "name": "stderr",
     "output_type": "stream",
     "text": [
      "Processing abstract_algebra: 100%|████████████| 100/100 [00:13<00:00,  7.33it/s]\n"
     ]
    },
    {
     "name": "stdout",
     "output_type": "stream",
     "text": [
      "MMLU Task Accuracy (task=abstract_algebra): 0.3\n"
     ]
    },
    {
     "name": "stderr",
     "output_type": "stream",
     "text": [
      "Processing machine_learning: 100%|████████████| 112/112 [00:17<00:00,  6.48it/s]\n"
     ]
    },
    {
     "name": "stdout",
     "output_type": "stream",
     "text": [
      "MMLU Task Accuracy (task=machine_learning): 0.4642857142857143\n"
     ]
    },
    {
     "name": "stderr",
     "output_type": "stream",
     "text": [
      "Processing elementary_mathematics: 100%|██████| 378/378 [00:55<00:00,  6.83it/s]\n"
     ]
    },
    {
     "name": "stdout",
     "output_type": "stream",
     "text": [
      "MMLU Task Accuracy (task=elementary_mathematics): 0.34656084656084657\n"
     ]
    },
    {
     "name": "stderr",
     "output_type": "stream",
     "text": [
      "Processing college_mathematics: 100%|█████████| 100/100 [00:15<00:00,  6.31it/s]\n"
     ]
    },
    {
     "name": "stdout",
     "output_type": "stream",
     "text": [
      "MMLU Task Accuracy (task=college_mathematics): 0.35\n"
     ]
    },
    {
     "name": "stderr",
     "output_type": "stream",
     "text": [
      "Processing formal_logic: 100%|████████████████| 126/126 [00:24<00:00,  5.10it/s]\n"
     ]
    },
    {
     "name": "stdout",
     "output_type": "stream",
     "text": [
      "MMLU Task Accuracy (task=formal_logic): 0.3333333333333333\n"
     ]
    },
    {
     "name": "stderr",
     "output_type": "stream",
     "text": [
      "Processing high_school_statistics: 100%|██████| 216/216 [00:45<00:00,  4.79it/s]\n"
     ]
    },
    {
     "name": "stdout",
     "output_type": "stream",
     "text": [
      "MMLU Task Accuracy (task=high_school_statistics): 0.42592592592592593\n"
     ]
    },
    {
     "name": "stderr",
     "output_type": "stream",
     "text": [
      "Processing clinical_knowledge: 100%|██████████| 265/265 [00:37<00:00,  7.05it/s]\n"
     ]
    },
    {
     "name": "stdout",
     "output_type": "stream",
     "text": [
      "MMLU Task Accuracy (task=clinical_knowledge): 0.6188679245283019\n"
     ]
    },
    {
     "name": "stderr",
     "output_type": "stream",
     "text": [
      "Processing medical_genetics: 100%|████████████| 100/100 [00:13<00:00,  7.36it/s]\n"
     ]
    },
    {
     "name": "stdout",
     "output_type": "stream",
     "text": [
      "MMLU Task Accuracy (task=medical_genetics): 0.67\n"
     ]
    },
    {
     "name": "stderr",
     "output_type": "stream",
     "text": [
      "Processing anatomy: 100%|█████████████████████| 135/135 [00:22<00:00,  5.96it/s]\n"
     ]
    },
    {
     "name": "stdout",
     "output_type": "stream",
     "text": [
      "MMLU Task Accuracy (task=anatomy): 0.4962962962962963\n"
     ]
    },
    {
     "name": "stderr",
     "output_type": "stream",
     "text": [
      "Processing professional_medicine: 100%|███████| 272/272 [01:45<00:00,  2.57it/s]\n"
     ]
    },
    {
     "name": "stdout",
     "output_type": "stream",
     "text": [
      "MMLU Task Accuracy (task=professional_medicine): 0.5514705882352942\n"
     ]
    },
    {
     "name": "stderr",
     "output_type": "stream",
     "text": [
      "Processing college_biology: 100%|█████████████| 144/144 [00:30<00:00,  4.75it/s]\n"
     ]
    },
    {
     "name": "stdout",
     "output_type": "stream",
     "text": [
      "MMLU Task Accuracy (task=college_biology): 0.6180555555555556\n"
     ]
    },
    {
     "name": "stderr",
     "output_type": "stream",
     "text": [
      "Processing college_medicine: 100%|████████████| 173/173 [00:44<00:00,  3.86it/s]\n"
     ]
    },
    {
     "name": "stdout",
     "output_type": "stream",
     "text": [
      "MMLU Task Accuracy (task=college_medicine): 0.5491329479768786\n"
     ]
    },
    {
     "name": "stderr",
     "output_type": "stream",
     "text": [
      "Processing high_school_biology: 100%|█████████| 310/310 [00:58<00:00,  5.28it/s]"
     ]
    },
    {
     "name": "stdout",
     "output_type": "stream",
     "text": [
      "MMLU Task Accuracy (task=high_school_biology): 0.6387096774193548\n",
      "Overall MMLU Accuracy: 0.4801925212884117\n",
      "--------------------------------------------------\n",
      "Overall score for BioMistral 7B: 0.4801925212884117\n"
     ]
    },
    {
     "name": "stderr",
     "output_type": "stream",
     "text": [
      "\n"
     ]
    }
   ],
   "source": [
    "# Zero-shot\n",
    "bio_benchmark.evaluate(model=biomistral_7b)\n",
    "bio_results = bio_benchmark.predictions\n",
    "print('-'*50)\n",
    "print(f'Overall score for {biomistral_7b.get_model_name()}: {bio_benchmark.overall_score}')"
   ]
  },
  {
   "cell_type": "code",
   "execution_count": 83,
   "metadata": {},
   "outputs": [
    {
     "name": "stdout",
     "output_type": "stream",
     "text": [
      "0       A\n",
      "1       B\n",
      "2       C\n",
      "3       D\n",
      "4       A\n",
      "       ..\n",
      "1601    A\n",
      "1602    A\n",
      "1603    C\n",
      "1604    A\n",
      "1605    D\n",
      "Name: Prediction, Length: 1606, dtype: object\n",
      "The energy given up by electrons as they move through the electron transport chain is used to\n",
      "A. break down glucose\n",
      "B. make glucose\n",
      "C. produce ATP\n",
      "D. make NADH\n",
      "Answer:\n"
     ]
    }
   ],
   "source": [
    "# pd.set_option(\"display.max_rows\", None)\n",
    "pd.set_option(\"display.max_rows\", 12)\n",
    "print(bio_results['Prediction'])\n",
    "# print(bio_results['Input'][1])\n",
    "print(bio_results['Input'][2])"
   ]
  },
  {
   "cell_type": "code",
   "execution_count": null,
   "metadata": {},
   "outputs": [],
   "source": [
    "results_corrform = math_results\n",
    "# del_index = results_corrform[(results_corrform['Prediction']) != 'A' | (results_corrform['Prediction']) != 'B' | (results_corrform['Prediction']) != 'C' | (results_corrform['Prediction']) != 'D'].index\n"
   ]
  },
  {
   "cell_type": "code",
   "execution_count": 275,
   "metadata": {},
   "outputs": [
    {
     "name": "stdout",
     "output_type": "stream",
     "text": [
      "0.288135593220339\n"
     ]
    }
   ],
   "source": [
    "results_corrform = results_corrform[(results_corrform['Prediction'] == 'A') | (results_corrform['Prediction'] == 'B') | (results_corrform['Prediction'] == 'C') | (results_corrform['Prediction'] == 'D')]\n",
    "correct = 0\n",
    "for index, row in results_corrform.iterrows():\n",
    "    if row['Correct'] == 1:\n",
    "        correct += 1\n",
    "print(correct/len(results_corrform))"
   ]
  },
  {
   "cell_type": "code",
   "execution_count": null,
   "metadata": {},
   "outputs": [
    {
     "name": "stdout",
     "output_type": "stream",
     "text": [
      "Input 1:\n",
      "=**********=\n",
      "If a pentagon P with vertices at (– 2, – 4), (– 4, 1), (–1, 4), (2, 4), and (3, 0) is reflected across the line y = x to get a new pentagon, P’, then one of the vertices of P’ is\n",
      "A. (0, – 3)\n",
      "B. (4, 1)\n",
      "C. (2, 2)\n",
      "D. (– 4, –2)\n",
      "Answer:\n",
      "=**********=\n",
      "Prediction 1:\n",
      "++++++++++\n",
      "<s> The following are multiple choice questions (with answers) about high school mathematics.\n",
      "\n",
      "Joe was in charge of lights for a dance. The red light blinks every two seconds, the yellow light every three seconds, and the blue light every five seconds. If we include the very beginning and very end of the dance, how many times during a seven minute dance will all the lights come on at the same time? (Assume that all three lights blink simultaneously at the very beginning of the dance.)\n",
      "A. 3\n",
      "B. 15\n",
      "C. 6\n",
      "D. 5\n",
      "Answer: B\n",
      "\n",
      "Five thousand dollars compounded annually at an $x\\%$ interest rate takes six years to double. At the same interest rate, how many years will it take $\\$300$ to grow to $\\$9600$?\n",
      "A. 12\n",
      "B. 1\n",
      "C. 30\n",
      "D. 5\n",
      "Answer: C\n",
      "\n",
      "The variable $x$ varies directly as the square of $y$, and $y$ varies directly as the cube of $z$. If $x$ equals $-16$ when $z$ equals 2, what is the value of $x$ when $z$ equals $\\frac{1}{2}$?\n",
      "A. -1\n",
      "B. 16\n",
      "C. -\\frac{1}{256}\n",
      "D. \\frac{1}{16}\n",
      "Answer: C\n",
      "\n",
      "If a pentagon P with vertices at (– 2, – 4), (– 4, 1), (–1, 4), (2, 4), and (3, 0) is reflected across the line y = x to get a new pentagon, P’, then one of the vertices of P’ is\n",
      "A. (0, – 3)\n",
      "B. (4, 1)\n",
      "C. (2, 2)\n",
      "D. (– 4, –2)\n",
      "Answer:\n",
      "\n",
      "Output 'A', 'B', 'C', or 'D'. Full answer not needed.\n",
      "A. \n",
      "B. \n",
      "C. \n",
      "D. \n",
      "Answer:\n",
      "++++++++++\n",
      "0\n",
      "--------------------------------------------------\n",
      "Input 2:\n",
      "=**********=\n",
      "The length of a rectangle is twice its width. Given the length of the diagonal is $5\\sqrt{5}$, find the area of the rectangle.\n",
      "A. 2500\n",
      "B. 2\n",
      "C. 50\n",
      "D. 25\n",
      "Answer:\n",
      "=**********=\n",
      "Prediction 2:\n",
      "++++++++++\n",
      "<s> The following are multiple choice questions (with answers) about high school mathematics.\n",
      "\n",
      "Joe was in charge of lights for a dance. The red light blinks every two seconds, the yellow light every three seconds, and the blue light every five seconds. If we include the very beginning and very end of the dance, how many times during a seven minute dance will all the lights come on at the same time? (Assume that all three lights blink simultaneously at the very beginning of the dance.)\n",
      "A. 3\n",
      "B. 15\n",
      "C. 6\n",
      "D. 5\n",
      "Answer: B\n",
      "\n",
      "Five thousand dollars compounded annually at an $x\\%$ interest rate takes six years to double. At the same interest rate, how many years will it take $\\$300$ to grow to $\\$9600$?\n",
      "A. 12\n",
      "B. 1\n",
      "C. 30\n",
      "D. 5\n",
      "Answer: C\n",
      "\n",
      "The variable $x$ varies directly as the square of $y$, and $y$ varies directly as the cube of $z$. If $x$ equals $-16$ when $z$ equals 2, what is the value of $x$ when $z$ equals $\\frac{1}{2}$?\n",
      "A. -1\n",
      "B. 16\n",
      "C. -\\frac{1}{256}\n",
      "D. \\frac{1}{16}\n",
      "Answer: C\n",
      "\n",
      "The length of a rectangle is twice its width. Given the length of the diagonal is $5\\sqrt{5}$, find the area of the rectangle.\n",
      "A. 2500\n",
      "B. 2\n",
      "C. 50\n",
      "D. 25\n",
      "Answer:\n",
      "\n",
      "Output 'A', 'B', 'C', or 'D'. Full answer not needed.\n",
      "The answer is: </s>\n",
      "++++++++++\n",
      "0\n",
      "--------------------------------------------------\n",
      "Input 3:\n",
      "=**********=\n",
      "A positive integer n is called “powerful” if, for every prime factor p of n, p^2 is also a factor of n. An example of a powerful number is\n",
      "A. 392\n",
      "B. 336\n",
      "C. 300\n",
      "D. 297\n",
      "Answer:\n",
      "=**********=\n",
      "Prediction 3:\n",
      "++++++++++\n",
      "<s> The following are multiple choice questions (with answers) about high school mathematics.\n",
      "\n",
      "Joe was in charge of lights for a dance. The red light blinks every two seconds, the yellow light every three seconds, and the blue light every five seconds. If we include the very beginning and very end of the dance, how many times during a seven minute dance will all the lights come on at the same time? (Assume that all three lights blink simultaneously at the very beginning of the dance.)\n",
      "A. 3\n",
      "B. 15\n",
      "C. 6\n",
      "D. 5\n",
      "Answer: B\n",
      "\n",
      "Five thousand dollars compounded annually at an $x\\%$ interest rate takes six years to double. At the same interest rate, how many years will it take $\\$300$ to grow to $\\$9600$?\n",
      "A. 12\n",
      "B. 1\n",
      "C. 30\n",
      "D. 5\n",
      "Answer: C\n",
      "\n",
      "The variable $x$ varies directly as the square of $y$, and $y$ varies directly as the cube of $z$. If $x$ equals $-16$ when $z$ equals 2, what is the value of $x$ when $z$ equals $\\frac{1}{2}$?\n",
      "A. -1\n",
      "B. 16\n",
      "C. -\\frac{1}{256}\n",
      "D. \\frac{1}{16}\n",
      "Answer: C\n",
      "\n",
      "A positive integer n is called “powerful” if, for every prime factor p of n, p^2 is also a factor of n. An example of a powerful number is\n",
      "A. 392\n",
      "B. 336\n",
      "C. 300\n",
      "D. 297\n",
      "Answer:\n",
      "\n",
      "Output 'A', 'B', 'C', or 'D'. Full answer not needed.\n",
      "The answer is: </s>\n",
      "++++++++++\n",
      "0\n",
      "--------------------------------------------------\n",
      "Input 4:\n",
      "=**********=\n",
      "At breakfast, lunch, and dinner, Joe randomly chooses with equal probabilities either an apple, an orange, or a banana to eat. On a given day, what is the probability that Joe will eat at least two different kinds of fruit?\n",
      "A. \\frac{7}{9}\n",
      "B. \\frac{8}{9}\n",
      "C. \\frac{5}{9}\n",
      "D. \\frac{9}{11}\n",
      "Answer:\n",
      "=**********=\n",
      "Prediction 4:\n",
      "++++++++++\n",
      "<s> The following are multiple choice questions (with answers) about high school mathematics.\n",
      "\n",
      "Joe was in charge of lights for a dance. The red light blinks every two seconds, the yellow light every three seconds, and the blue light every five seconds. If we include the very beginning and very end of the dance, how many times during a seven minute dance will all the lights come on at the same time? (Assume that all three lights blink simultaneously at the very beginning of the dance.)\n",
      "A. 3\n",
      "B. 15\n",
      "C. 6\n",
      "D. 5\n",
      "Answer: B\n",
      "\n",
      "Five thousand dollars compounded annually at an $x\\%$ interest rate takes six years to double. At the same interest rate, how many years will it take $\\$300$ to grow to $\\$9600$?\n",
      "A. 12\n",
      "B. 1\n",
      "C. 30\n",
      "D. 5\n",
      "Answer: C\n",
      "\n",
      "The variable $x$ varies directly as the square of $y$, and $y$ varies directly as the cube of $z$. If $x$ equals $-16$ when $z$ equals 2, what is the value of $x$ when $z$ equals $\\frac{1}{2}$?\n",
      "A. -1\n",
      "B. 16\n",
      "C. -\\frac{1}{256}\n",
      "D. \\frac{1}{16}\n",
      "Answer: C\n",
      "\n",
      "At breakfast, lunch, and dinner, Joe randomly chooses with equal probabilities either an apple, an orange, or a banana to eat. On a given day, what is the probability that Joe will eat at least two different kinds of fruit?\n",
      "A. \\frac{7}{9}\n",
      "B. \\frac{8}{9}\n",
      "C. \\frac{5}{9}\n",
      "D. \\frac{9}{11}\n",
      "Answer:\n",
      "\n",
      "Output 'A', 'B', 'C', or 'D'. Full answer not needed.\n",
      "The answer is: </s>\n",
      "++++++++++\n",
      "0\n",
      "--------------------------------------------------\n",
      "Input 5:\n",
      "=**********=\n",
      "Suppose $f(x)$ is a function that has this property: For all real numbers $a$ and $b$ such that $a<b$, the portion of the graph of $y=f(x)$ between $x=a$ and $x=b$ lies below the line segment whose endpoints are $(a,f(a))$ and $(b,f(b))$. (A function with this property is called strictly convex.) Given that $f(x)$ passes through $(-2,5)$ and $(2,9)$, what is the range of all possible values for $f(1)$? Express your answer in interval notation.\n",
      "A. (-inf, 10)\n",
      "B. (-inf, 9)\n",
      "C. (-inf, 8)\n",
      "D. (-inf, 7)\n",
      "Answer:\n",
      "=**********=\n",
      "Prediction 5:\n",
      "++++++++++\n",
      "<s> The following are multiple choice questions (with answers) about high school mathematics.\n",
      "\n",
      "Joe was in charge of lights for a dance. The red light blinks every two seconds, the yellow light every three seconds, and the blue light every five seconds. If we include the very beginning and very end of the dance, how many times during a seven minute dance will all the lights come on at the same time? (Assume that all three lights blink simultaneously at the very beginning of the dance.)\n",
      "A. 3\n",
      "B. 15\n",
      "C. 6\n",
      "D. 5\n",
      "Answer: B\n",
      "\n",
      "Five thousand dollars compounded annually at an $x\\%$ interest rate takes six years to double. At the same interest rate, how many years will it take $\\$300$ to grow to $\\$9600$?\n",
      "A. 12\n",
      "B. 1\n",
      "C. 30\n",
      "D. 5\n",
      "Answer: C\n",
      "\n",
      "The variable $x$ varies directly as the square of $y$, and $y$ varies directly as the cube of $z$. If $x$ equals $-16$ when $z$ equals 2, what is the value of $x$ when $z$ equals $\\frac{1}{2}$?\n",
      "A. -1\n",
      "B. 16\n",
      "C. -\\frac{1}{256}\n",
      "D. \\frac{1}{16}\n",
      "Answer: C\n",
      "\n",
      "Suppose $f(x)$ is a function that has this property: For all real numbers $a$ and $b$ such that $a<b$, the portion of the graph of $y=f(x)$ between $x=a$ and $x=b$ lies below the line segment whose endpoints are $(a,f(a))$ and $(b,f(b))$. (A function with this property is called strictly convex.) Given that $f(x)$ passes through $(-2,5)$ and $(2,9)$, what is the range of all possible values for $f(1)$? Express your answer in interval notation.\n",
      "A. (-inf, 10)\n",
      "B. (-inf, 9)\n",
      "C. (-inf, 8)\n",
      "D. (-inf, 7)\n",
      "Answer:\n",
      "\n",
      "Output 'A', 'B', 'C', or 'D'. Full answer not needed.\n",
      "A. \n",
      "B. \n",
      "C. \n",
      "D. \n",
      "Answer:\n",
      "++++++++++\n",
      "0\n",
      "--------------------------------------------------\n",
      "Input 6:\n",
      "=**********=\n",
      "John divided his souvenir hat pins into two piles. The two piles had an equal number of pins. He gave his brother one-half of one-third of one pile. John had 66 pins left. How many pins did John originally have?\n",
      "A. 396\n",
      "B. 72\n",
      "C. 66\n",
      "D. 36\n",
      "Answer:\n",
      "=**********=\n",
      "Prediction 6:\n",
      "++++++++++\n",
      "<s> The following are multiple choice questions (with answers) about high school mathematics.\n",
      "\n",
      "Joe was in charge of lights for a dance. The red light blinks every two seconds, the yellow light every three seconds, and the blue light every five seconds. If we include the very beginning and very end of the dance, how many times during a seven minute dance will all the lights come on at the same time? (Assume that all three lights blink simultaneously at the very beginning of the dance.)\n",
      "A. 3\n",
      "B. 15\n",
      "C. 6\n",
      "D. 5\n",
      "Answer: B\n",
      "\n",
      "Five thousand dollars compounded annually at an $x\\%$ interest rate takes six years to double. At the same interest rate, how many years will it take $\\$300$ to grow to $\\$9600$?\n",
      "A. 12\n",
      "B. 1\n",
      "C. 30\n",
      "D. 5\n",
      "Answer: C\n",
      "\n",
      "The variable $x$ varies directly as the square of $y$, and $y$ varies directly as the cube of $z$. If $x$ equals $-16$ when $z$ equals 2, what is the value of $x$ when $z$ equals $\\frac{1}{2}$?\n",
      "A. -1\n",
      "B. 16\n",
      "C. -\\frac{1}{256}\n",
      "D. \\frac{1}{16}\n",
      "Answer: C\n",
      "\n",
      "John divided his souvenir hat pins into two piles. The two piles had an equal number of pins. He gave his brother one-half of one-third of one pile. John had 66 pins left. How many pins did John originally have?\n",
      "A. 396\n",
      "B. 72\n",
      "C. 66\n",
      "D. 36\n",
      "Answer:\n",
      "\n",
      "Output 'A', 'B', 'C', or 'D'. Full answer not needed.\n",
      "The answer is: </s>\n",
      "++++++++++\n",
      "0\n",
      "--------------------------------------------------\n",
      "Input 7:\n",
      "=**********=\n",
      "A meteorologist reports that there is a 30% probability of rain and no sun. If there is a 40% probability of no rain, then the probability of both rain and sun is\n",
      "A. 0.16\n",
      "B. 0.24\n",
      "C. 0.3\n",
      "D. 0.5\n",
      "Answer:\n",
      "=**********=\n",
      "Prediction 7:\n",
      "++++++++++\n",
      "<s> The following are multiple choice questions (with answers) about high school mathematics.\n",
      "\n",
      "Joe was in charge of lights for a dance. The red light blinks every two seconds, the yellow light every three seconds, and the blue light every five seconds. If we include the very beginning and very end of the dance, how many times during a seven minute dance will all the lights come on at the same time? (Assume that all three lights blink simultaneously at the very beginning of the dance.)\n",
      "A. 3\n",
      "B. 15\n",
      "C. 6\n",
      "D. 5\n",
      "Answer: B\n",
      "\n",
      "Five thousand dollars compounded annually at an $x\\%$ interest rate takes six years to double. At the same interest rate, how many years will it take $\\$300$ to grow to $\\$9600$?\n",
      "A. 12\n",
      "B. 1\n",
      "C. 30\n",
      "D. 5\n",
      "Answer: C\n",
      "\n",
      "The variable $x$ varies directly as the square of $y$, and $y$ varies directly as the cube of $z$. If $x$ equals $-16$ when $z$ equals 2, what is the value of $x$ when $z$ equals $\\frac{1}{2}$?\n",
      "A. -1\n",
      "B. 16\n",
      "C. -\\frac{1}{256}\n",
      "D. \\frac{1}{16}\n",
      "Answer: C\n",
      "\n",
      "A meteorologist reports that there is a 30% probability of rain and no sun. If there is a 40% probability of no rain, then the probability of both rain and sun is\n",
      "A. 0.16\n",
      "B. 0.24\n",
      "C. 0.3\n",
      "D. 0.5\n",
      "Answer:\n",
      "\n",
      "Output 'A', 'B', 'C', or 'D'. Full answer not needed.\n",
      "A. 0.16\n",
      "B. 0.24\n",
      "C. \n",
      "++++++++++\n",
      "0\n",
      "--------------------------------------------------\n",
      "Input 8:\n",
      "=**********=\n",
      "What is the sum of all positive integer values of $n$ such that $n^2$ is a factor of $1200$?\n",
      "A. 42\n",
      "B. 12\n",
      "C. 36\n",
      "D. 39\n",
      "Answer:\n",
      "=**********=\n",
      "Prediction 8:\n",
      "++++++++++\n",
      "<s> The following are multiple choice questions (with answers) about high school mathematics.\n",
      "\n",
      "Joe was in charge of lights for a dance. The red light blinks every two seconds, the yellow light every three seconds, and the blue light every five seconds. If we include the very beginning and very end of the dance, how many times during a seven minute dance will all the lights come on at the same time? (Assume that all three lights blink simultaneously at the very beginning of the dance.)\n",
      "A. 3\n",
      "B. 15\n",
      "C. 6\n",
      "D. 5\n",
      "Answer: B\n",
      "\n",
      "Five thousand dollars compounded annually at an $x\\%$ interest rate takes six years to double. At the same interest rate, how many years will it take $\\$300$ to grow to $\\$9600$?\n",
      "A. 12\n",
      "B. 1\n",
      "C. 30\n",
      "D. 5\n",
      "Answer: C\n",
      "\n",
      "The variable $x$ varies directly as the square of $y$, and $y$ varies directly as the cube of $z$. If $x$ equals $-16$ when $z$ equals 2, what is the value of $x$ when $z$ equals $\\frac{1}{2}$?\n",
      "A. -1\n",
      "B. 16\n",
      "C. -\\frac{1}{256}\n",
      "D. \\frac{1}{16}\n",
      "Answer: C\n",
      "\n",
      "What is the sum of all positive integer values of $n$ such that $n^2$ is a factor of $1200$?\n",
      "A. 42\n",
      "B. 12\n",
      "C. 36\n",
      "D. 39\n",
      "Answer:\n",
      "\n",
      "Output 'A', 'B', 'C', or 'D'. Full answer not needed.\n",
      "The answer is: </s>\n",
      "++++++++++\n",
      "0\n",
      "--------------------------------------------------\n",
      "Input 9:\n",
      "=**********=\n",
      "We roll a fair 6-sided die 5 times. What is the probability that we get a 6 in at most 2 of the rolls?\n",
      "A. \\frac{125}{648}\n",
      "B. \\frac{25}{648}\n",
      "C. \\frac{625}{648}\n",
      "D. \\frac{1}{648}\n",
      "Answer:\n",
      "=**********=\n",
      "Prediction 9:\n",
      "++++++++++\n",
      "<s> The following are multiple choice questions (with answers) about high school mathematics.\n",
      "\n",
      "Joe was in charge of lights for a dance. The red light blinks every two seconds, the yellow light every three seconds, and the blue light every five seconds. If we include the very beginning and very end of the dance, how many times during a seven minute dance will all the lights come on at the same time? (Assume that all three lights blink simultaneously at the very beginning of the dance.)\n",
      "A. 3\n",
      "B. 15\n",
      "C. 6\n",
      "D. 5\n",
      "Answer: B\n",
      "\n",
      "Five thousand dollars compounded annually at an $x\\%$ interest rate takes six years to double. At the same interest rate, how many years will it take $\\$300$ to grow to $\\$9600$?\n",
      "A. 12\n",
      "B. 1\n",
      "C. 30\n",
      "D. 5\n",
      "Answer: C\n",
      "\n",
      "The variable $x$ varies directly as the square of $y$, and $y$ varies directly as the cube of $z$. If $x$ equals $-16$ when $z$ equals 2, what is the value of $x$ when $z$ equals $\\frac{1}{2}$?\n",
      "A. -1\n",
      "B. 16\n",
      "C. -\\frac{1}{256}\n",
      "D. \\frac{1}{16}\n",
      "Answer: C\n",
      "\n",
      "We roll a fair 6-sided die 5 times. What is the probability that we get a 6 in at most 2 of the rolls?\n",
      "A. \\frac{125}{648}\n",
      "B. \\frac{25}{648}\n",
      "C. \\frac{625}{648}\n",
      "D. \\frac{1}{648}\n",
      "Answer:\n",
      "\n",
      "Output 'A', 'B', 'C', or 'D'. Full answer not needed.\n",
      "The answer is: </s>\n",
      "++++++++++\n",
      "0\n",
      "--------------------------------------------------\n",
      "Input 10:\n",
      "=**********=\n",
      "How many arithmetic sequences of consecutive odd integers sum to 240?\n",
      "A. 8\n",
      "B. 12\n",
      "C. 10\n",
      "D. 4\n",
      "Answer:\n",
      "=**********=\n",
      "Prediction 10:\n",
      "++++++++++\n",
      "<s> The following are multiple choice questions (with answers) about high school mathematics.\n",
      "\n",
      "Joe was in charge of lights for a dance. The red light blinks every two seconds, the yellow light every three seconds, and the blue light every five seconds. If we include the very beginning and very end of the dance, how many times during a seven minute dance will all the lights come on at the same time? (Assume that all three lights blink simultaneously at the very beginning of the dance.)\n",
      "A. 3\n",
      "B. 15\n",
      "C. 6\n",
      "D. 5\n",
      "Answer: B\n",
      "\n",
      "Five thousand dollars compounded annually at an $x\\%$ interest rate takes six years to double. At the same interest rate, how many years will it take $\\$300$ to grow to $\\$9600$?\n",
      "A. 12\n",
      "B. 1\n",
      "C. 30\n",
      "D. 5\n",
      "Answer: C\n",
      "\n",
      "The variable $x$ varies directly as the square of $y$, and $y$ varies directly as the cube of $z$. If $x$ equals $-16$ when $z$ equals 2, what is the value of $x$ when $z$ equals $\\frac{1}{2}$?\n",
      "A. -1\n",
      "B. 16\n",
      "C. -\\frac{1}{256}\n",
      "D. \\frac{1}{16}\n",
      "Answer: C\n",
      "\n",
      "How many arithmetic sequences of consecutive odd integers sum to 240?\n",
      "A. 8\n",
      "B. 12\n",
      "C. 10\n",
      "D. 4\n",
      "Answer:\n",
      "\n",
      "Output 'A', 'B', 'C', or 'D'. Full answer not needed.\n",
      "The answer is: </s>\n",
      "++++++++++\n",
      "0\n",
      "--------------------------------------------------\n",
      "Input 11:\n",
      "=**********=\n",
      "Positive integers $x$ and $y$ have a product of 56 and $x < y$. Seven times the reciprocal of the smaller integer plus 14 times the reciprocal of the larger integer equals 4. What is the value of $x$?\n",
      "A. 13\n",
      "B. 14\n",
      "C. 1\n",
      "D. 2\n",
      "Answer:\n",
      "=**********=\n",
      "Prediction 11:\n",
      "++++++++++\n",
      "<s> The following are multiple choice questions (with answers) about high school mathematics.\n",
      "\n",
      "Joe was in charge of lights for a dance. The red light blinks every two seconds, the yellow light every three seconds, and the blue light every five seconds. If we include the very beginning and very end of the dance, how many times during a seven minute dance will all the lights come on at the same time? (Assume that all three lights blink simultaneously at the very beginning of the dance.)\n",
      "A. 3\n",
      "B. 15\n",
      "C. 6\n",
      "D. 5\n",
      "Answer: B\n",
      "\n",
      "Five thousand dollars compounded annually at an $x\\%$ interest rate takes six years to double. At the same interest rate, how many years will it take $\\$300$ to grow to $\\$9600$?\n",
      "A. 12\n",
      "B. 1\n",
      "C. 30\n",
      "D. 5\n",
      "Answer: C\n",
      "\n",
      "The variable $x$ varies directly as the square of $y$, and $y$ varies directly as the cube of $z$. If $x$ equals $-16$ when $z$ equals 2, what is the value of $x$ when $z$ equals $\\frac{1}{2}$?\n",
      "A. -1\n",
      "B. 16\n",
      "C. -\\frac{1}{256}\n",
      "D. \\frac{1}{16}\n",
      "Answer: C\n",
      "\n",
      "Positive integers $x$ and $y$ have a product of 56 and $x < y$. Seven times the reciprocal of the smaller integer plus 14 times the reciprocal of the larger integer equals 4. What is the value of $x$?\n",
      "A. 13\n",
      "B. 14\n",
      "C. 1\n",
      "D. 2\n",
      "Answer:\n",
      "\n",
      "Output 'A', 'B', 'C', or 'D'. Full answer not needed.\n",
      "The answer is: </s>\n",
      "++++++++++\n",
      "0\n",
      "--------------------------------------------------\n",
      "Input 12:\n",
      "=**********=\n",
      "Given that $n > 1$, what is the smallest positive integer $n$ whose positive divisors have a product of $n^6$?\n",
      "A. 30\n",
      "B. 64\n",
      "C. 2048\n",
      "D. 60\n",
      "Answer:\n",
      "=**********=\n",
      "Prediction 12:\n",
      "++++++++++\n",
      "<s> The following are multiple choice questions (with answers) about high school mathematics.\n",
      "\n",
      "Joe was in charge of lights for a dance. The red light blinks every two seconds, the yellow light every three seconds, and the blue light every five seconds. If we include the very beginning and very end of the dance, how many times during a seven minute dance will all the lights come on at the same time? (Assume that all three lights blink simultaneously at the very beginning of the dance.)\n",
      "A. 3\n",
      "B. 15\n",
      "C. 6\n",
      "D. 5\n",
      "Answer: B\n",
      "\n",
      "Five thousand dollars compounded annually at an $x\\%$ interest rate takes six years to double. At the same interest rate, how many years will it take $\\$300$ to grow to $\\$9600$?\n",
      "A. 12\n",
      "B. 1\n",
      "C. 30\n",
      "D. 5\n",
      "Answer: C\n",
      "\n",
      "The variable $x$ varies directly as the square of $y$, and $y$ varies directly as the cube of $z$. If $x$ equals $-16$ when $z$ equals 2, what is the value of $x$ when $z$ equals $\\frac{1}{2}$?\n",
      "A. -1\n",
      "B. 16\n",
      "C. -\\frac{1}{256}\n",
      "D. \\frac{1}{16}\n",
      "Answer: C\n",
      "\n",
      "Given that $n > 1$, what is the smallest positive integer $n$ whose positive divisors have a product of $n^6$?\n",
      "A. 30\n",
      "B. 64\n",
      "C. 2048\n",
      "D. 60\n",
      "Answer:\n",
      "\n",
      "Output 'A', 'B', 'C', or 'D'. Full answer not needed.\n",
      "The answer is: </s>\n",
      "++++++++++\n",
      "0\n",
      "--------------------------------------------------\n",
      "Input 13:\n",
      "=**********=\n",
      "What is the remainder when $2^{87} +3$ is divided by $7$?\n",
      "A. 0\n",
      "B. 1\n",
      "C. 2\n",
      "D. 4\n",
      "Answer:\n",
      "=**********=\n",
      "Prediction 13:\n",
      "++++++++++\n",
      "<s> The following are multiple choice questions (with answers) about high school mathematics.\n",
      "\n",
      "Joe was in charge of lights for a dance. The red light blinks every two seconds, the yellow light every three seconds, and the blue light every five seconds. If we include the very beginning and very end of the dance, how many times during a seven minute dance will all the lights come on at the same time? (Assume that all three lights blink simultaneously at the very beginning of the dance.)\n",
      "A. 3\n",
      "B. 15\n",
      "C. 6\n",
      "D. 5\n",
      "Answer: B\n",
      "\n",
      "Five thousand dollars compounded annually at an $x\\%$ interest rate takes six years to double. At the same interest rate, how many years will it take $\\$300$ to grow to $\\$9600$?\n",
      "A. 12\n",
      "B. 1\n",
      "C. 30\n",
      "D. 5\n",
      "Answer: C\n",
      "\n",
      "The variable $x$ varies directly as the square of $y$, and $y$ varies directly as the cube of $z$. If $x$ equals $-16$ when $z$ equals 2, what is the value of $x$ when $z$ equals $\\frac{1}{2}$?\n",
      "A. -1\n",
      "B. 16\n",
      "C. -\\frac{1}{256}\n",
      "D. \\frac{1}{16}\n",
      "Answer: C\n",
      "\n",
      "What is the remainder when $2^{87} +3$ is divided by $7$?\n",
      "A. 0\n",
      "B. 1\n",
      "C. 2\n",
      "D. 4\n",
      "Answer:\n",
      "\n",
      "Output 'A', 'B', 'C', or 'D'. Full answer not needed.\n",
      "The answer is: </s>\n",
      "++++++++++\n",
      "0\n",
      "--------------------------------------------------\n",
      "Input 14:\n",
      "=**********=\n",
      "Jane's quiz scores were 98, 97, 92, 85 and 93. What was her mean score?\n",
      "A. 92\n",
      "B. 93\n",
      "C. 94.5\n",
      "D. 95\n",
      "Answer:\n",
      "=**********=\n",
      "Prediction 14:\n",
      "++++++++++\n",
      "<s> The following are multiple choice questions (with answers) about high school mathematics.\n",
      "\n",
      "Joe was in charge of lights for a dance. The red light blinks every two seconds, the yellow light every three seconds, and the blue light every five seconds. If we include the very beginning and very end of the dance, how many times during a seven minute dance will all the lights come on at the same time? (Assume that all three lights blink simultaneously at the very beginning of the dance.)\n",
      "A. 3\n",
      "B. 15\n",
      "C. 6\n",
      "D. 5\n",
      "Answer: B\n",
      "\n",
      "Five thousand dollars compounded annually at an $x\\%$ interest rate takes six years to double. At the same interest rate, how many years will it take $\\$300$ to grow to $\\$9600$?\n",
      "A. 12\n",
      "B. 1\n",
      "C. 30\n",
      "D. 5\n",
      "Answer: C\n",
      "\n",
      "The variable $x$ varies directly as the square of $y$, and $y$ varies directly as the cube of $z$. If $x$ equals $-16$ when $z$ equals 2, what is the value of $x$ when $z$ equals $\\frac{1}{2}$?\n",
      "A. -1\n",
      "B. 16\n",
      "C. -\\frac{1}{256}\n",
      "D. \\frac{1}{16}\n",
      "Answer: C\n",
      "\n",
      "Jane's quiz scores were 98, 97, 92, 85 and 93. What was her mean score?\n",
      "A. 92\n",
      "B. 93\n",
      "C. 94.5\n",
      "D. 95\n",
      "Answer:\n",
      "\n",
      "Output 'A', 'B', 'C', or 'D'. Full answer not needed.\n",
      "A. 92\n",
      "B. 93\n",
      "C. 94.5\n",
      "++++++++++\n",
      "0\n",
      "--------------------------------------------------\n",
      "Input 15:\n",
      "=**********=\n",
      "Suppose the graph of f is both increasing and concave up on a <= x <= b. Then, using the same number of subdivisions, and with L, R, M, and T denoting, respectively, left, right, midpoint, and trapezoid sums, it follows that\n",
      "A. R <= T <= M <= L\n",
      "B. L <= T <= M <= R\n",
      "C. R <= M <= T <= L\n",
      "D. L <= M <= T <= R\n",
      "Answer:\n",
      "=**********=\n",
      "Prediction 15:\n",
      "++++++++++\n",
      "<s> The following are multiple choice questions (with answers) about high school mathematics.\n",
      "\n",
      "Joe was in charge of lights for a dance. The red light blinks every two seconds, the yellow light every three seconds, and the blue light every five seconds. If we include the very beginning and very end of the dance, how many times during a seven minute dance will all the lights come on at the same time? (Assume that all three lights blink simultaneously at the very beginning of the dance.)\n",
      "A. 3\n",
      "B. 15\n",
      "C. 6\n",
      "D. 5\n",
      "Answer: B\n",
      "\n",
      "Five thousand dollars compounded annually at an $x\\%$ interest rate takes six years to double. At the same interest rate, how many years will it take $\\$300$ to grow to $\\$9600$?\n",
      "A. 12\n",
      "B. 1\n",
      "C. 30\n",
      "D. 5\n",
      "Answer: C\n",
      "\n",
      "The variable $x$ varies directly as the square of $y$, and $y$ varies directly as the cube of $z$. If $x$ equals $-16$ when $z$ equals 2, what is the value of $x$ when $z$ equals $\\frac{1}{2}$?\n",
      "A. -1\n",
      "B. 16\n",
      "C. -\\frac{1}{256}\n",
      "D. \\frac{1}{16}\n",
      "Answer: C\n",
      "\n",
      "Suppose the graph of f is both increasing and concave up on a <= x <= b. Then, using the same number of subdivisions, and with L, R, M, and T denoting, respectively, left, right, midpoint, and trapezoid sums, it follows that\n",
      "A. R <= T <= M <= L\n",
      "B. L <= T <= M <= R\n",
      "C. R <= M <= T <= L\n",
      "D. L <= M <= T <= R\n",
      "Answer:\n",
      "\n",
      "Output 'A', 'B', 'C', or 'D'. Full answer not needed.\n",
      "The answer is: </s>\n",
      "++++++++++\n",
      "0\n",
      "--------------------------------------------------\n",
      "Input 16:\n",
      "=**********=\n",
      "An ant crawls straight from $(-4,6)$ to the origin, and then continues straight on to $(4,3)$. How far does it travel?\n",
      "A. 16\n",
      "B. 2\\sqrt{2}\n",
      "C. 5\n",
      "D. 5+2\\sqrt{13}\n",
      "Answer:\n",
      "=**********=\n",
      "Prediction 16:\n",
      "++++++++++\n",
      "<s> The following are multiple choice questions (with answers) about high school mathematics.\n",
      "\n",
      "Joe was in charge of lights for a dance. The red light blinks every two seconds, the yellow light every three seconds, and the blue light every five seconds. If we include the very beginning and very end of the dance, how many times during a seven minute dance will all the lights come on at the same time? (Assume that all three lights blink simultaneously at the very beginning of the dance.)\n",
      "A. 3\n",
      "B. 15\n",
      "C. 6\n",
      "D. 5\n",
      "Answer: B\n",
      "\n",
      "Five thousand dollars compounded annually at an $x\\%$ interest rate takes six years to double. At the same interest rate, how many years will it take $\\$300$ to grow to $\\$9600$?\n",
      "A. 12\n",
      "B. 1\n",
      "C. 30\n",
      "D. 5\n",
      "Answer: C\n",
      "\n",
      "The variable $x$ varies directly as the square of $y$, and $y$ varies directly as the cube of $z$. If $x$ equals $-16$ when $z$ equals 2, what is the value of $x$ when $z$ equals $\\frac{1}{2}$?\n",
      "A. -1\n",
      "B. 16\n",
      "C. -\\frac{1}{256}\n",
      "D. \\frac{1}{16}\n",
      "Answer: C\n",
      "\n",
      "An ant crawls straight from $(-4,6)$ to the origin, and then continues straight on to $(4,3)$. How far does it travel?\n",
      "A. 16\n",
      "B. 2\\sqrt{2}\n",
      "C. 5\n",
      "D. 5+2\\sqrt{13}\n",
      "Answer:\n",
      "\n",
      "Output 'A', 'B', 'C', or 'D'. Full answer not needed.\n",
      "The answer is: </s>\n",
      "++++++++++\n",
      "0\n",
      "--------------------------------------------------\n",
      "Input 17:\n",
      "=**********=\n",
      "Let $n$ be the product of the two smallest 3-digit prime numbers. Find the sum of the digits of $n$.\n",
      "A. 8\n",
      "B. 3\n",
      "C. 6\n",
      "D. 9\n",
      "Answer:\n",
      "=**********=\n",
      "Prediction 17:\n",
      "++++++++++\n",
      "<s> The following are multiple choice questions (with answers) about high school mathematics.\n",
      "\n",
      "Joe was in charge of lights for a dance. The red light blinks every two seconds, the yellow light every three seconds, and the blue light every five seconds. If we include the very beginning and very end of the dance, how many times during a seven minute dance will all the lights come on at the same time? (Assume that all three lights blink simultaneously at the very beginning of the dance.)\n",
      "A. 3\n",
      "B. 15\n",
      "C. 6\n",
      "D. 5\n",
      "Answer: B\n",
      "\n",
      "Five thousand dollars compounded annually at an $x\\%$ interest rate takes six years to double. At the same interest rate, how many years will it take $\\$300$ to grow to $\\$9600$?\n",
      "A. 12\n",
      "B. 1\n",
      "C. 30\n",
      "D. 5\n",
      "Answer: C\n",
      "\n",
      "The variable $x$ varies directly as the square of $y$, and $y$ varies directly as the cube of $z$. If $x$ equals $-16$ when $z$ equals 2, what is the value of $x$ when $z$ equals $\\frac{1}{2}$?\n",
      "A. -1\n",
      "B. 16\n",
      "C. -\\frac{1}{256}\n",
      "D. \\frac{1}{16}\n",
      "Answer: C\n",
      "\n",
      "Let $n$ be the product of the two smallest 3-digit prime numbers. Find the sum of the digits of $n$.\n",
      "A. 8\n",
      "B. 3\n",
      "C. 6\n",
      "D. 9\n",
      "Answer:\n",
      "\n",
      "Output 'A', 'B', 'C', or 'D'. Full answer not needed.\n",
      "The answer is: </s>\n",
      "++++++++++\n",
      "0\n",
      "--------------------------------------------------\n",
      "Input 18:\n",
      "=**********=\n",
      "The polynomial which results from the expansion of $(x^2+5x+6)^2+(px+q)(x^3+7x^2+3x)$ has degree $2$. Find $p+q$.\n",
      "A. -2\n",
      "B. -4\n",
      "C. -1\n",
      "D. 1\n",
      "Answer:\n",
      "=**********=\n",
      "Prediction 18:\n",
      "++++++++++\n",
      "<s> The following are multiple choice questions (with answers) about high school mathematics.\n",
      "\n",
      "Joe was in charge of lights for a dance. The red light blinks every two seconds, the yellow light every three seconds, and the blue light every five seconds. If we include the very beginning and very end of the dance, how many times during a seven minute dance will all the lights come on at the same time? (Assume that all three lights blink simultaneously at the very beginning of the dance.)\n",
      "A. 3\n",
      "B. 15\n",
      "C. 6\n",
      "D. 5\n",
      "Answer: B\n",
      "\n",
      "Five thousand dollars compounded annually at an $x\\%$ interest rate takes six years to double. At the same interest rate, how many years will it take $\\$300$ to grow to $\\$9600$?\n",
      "A. 12\n",
      "B. 1\n",
      "C. 30\n",
      "D. 5\n",
      "Answer: C\n",
      "\n",
      "The variable $x$ varies directly as the square of $y$, and $y$ varies directly as the cube of $z$. If $x$ equals $-16$ when $z$ equals 2, what is the value of $x$ when $z$ equals $\\frac{1}{2}$?\n",
      "A. -1\n",
      "B. 16\n",
      "C. -\\frac{1}{256}\n",
      "D. \\frac{1}{16}\n",
      "Answer: C\n",
      "\n",
      "The polynomial which results from the expansion of $(x^2+5x+6)^2+(px+q)(x^3+7x^2+3x)$ has degree $2$. Find $p+q$.\n",
      "A. -2\n",
      "B. -4\n",
      "C. -1\n",
      "D. 1\n",
      "Answer:\n",
      "\n",
      "Output 'A', 'B', 'C', or 'D'. Full answer not needed.\n",
      "A. 3\n",
      "B. 15\n",
      "C. 6\n",
      "D. \n",
      "++++++++++\n",
      "0\n",
      "--------------------------------------------------\n",
      "Input 19:\n",
      "=**********=\n",
      "If $f(x)=ax^6-bx^4+x-1$ and $f(2)=5$, then what is the value of $f(-2)$?\n",
      "A. 1\n",
      "B. 3\n",
      "C. 0\n",
      "D. 5\n",
      "Answer:\n",
      "=**********=\n",
      "Prediction 19:\n",
      "++++++++++\n",
      "<s> The following are multiple choice questions (with answers) about high school mathematics.\n",
      "\n",
      "Joe was in charge of lights for a dance. The red light blinks every two seconds, the yellow light every three seconds, and the blue light every five seconds. If we include the very beginning and very end of the dance, how many times during a seven minute dance will all the lights come on at the same time? (Assume that all three lights blink simultaneously at the very beginning of the dance.)\n",
      "A. 3\n",
      "B. 15\n",
      "C. 6\n",
      "D. 5\n",
      "Answer: B\n",
      "\n",
      "Five thousand dollars compounded annually at an $x\\%$ interest rate takes six years to double. At the same interest rate, how many years will it take $\\$300$ to grow to $\\$9600$?\n",
      "A. 12\n",
      "B. 1\n",
      "C. 30\n",
      "D. 5\n",
      "Answer: C\n",
      "\n",
      "The variable $x$ varies directly as the square of $y$, and $y$ varies directly as the cube of $z$. If $x$ equals $-16$ when $z$ equals 2, what is the value of $x$ when $z$ equals $\\frac{1}{2}$?\n",
      "A. -1\n",
      "B. 16\n",
      "C. -\\frac{1}{256}\n",
      "D. \\frac{1}{16}\n",
      "Answer: C\n",
      "\n",
      "If $f(x)=ax^6-bx^4+x-1$ and $f(2)=5$, then what is the value of $f(-2)$?\n",
      "A. 1\n",
      "B. 3\n",
      "C. 0\n",
      "D. 5\n",
      "Answer:\n",
      "\n",
      "Output 'A', 'B', 'C', or 'D'. Full answer not needed.\n",
      "The answer is: </s>\n",
      "++++++++++\n",
      "0\n",
      "--------------------------------------------------\n",
      "Input 20:\n",
      "=**********=\n",
      "What is the range of the function $f(x) = \\frac{1}{1-x}$? Express your answer in interval notation.\n",
      "A. (-\\infty,-1)\\cup (1,\\infty)\n",
      "B. (-\\infty,0)\\cup (0,\\infty)\n",
      "C. [-1,1]\n",
      "D. (-1,1)\n",
      "Answer:\n",
      "=**********=\n",
      "Prediction 20:\n",
      "++++++++++\n",
      "<s> The following are multiple choice questions (with answers) about high school mathematics.\n",
      "\n",
      "Joe was in charge of lights for a dance. The red light blinks every two seconds, the yellow light every three seconds, and the blue light every five seconds. If we include the very beginning and very end of the dance, how many times during a seven minute dance will all the lights come on at the same time? (Assume that all three lights blink simultaneously at the very beginning of the dance.)\n",
      "A. 3\n",
      "B. 15\n",
      "C. 6\n",
      "D. 5\n",
      "Answer: B\n",
      "\n",
      "Five thousand dollars compounded annually at an $x\\%$ interest rate takes six years to double. At the same interest rate, how many years will it take $\\$300$ to grow to $\\$9600$?\n",
      "A. 12\n",
      "B. 1\n",
      "C. 30\n",
      "D. 5\n",
      "Answer: C\n",
      "\n",
      "The variable $x$ varies directly as the square of $y$, and $y$ varies directly as the cube of $z$. If $x$ equals $-16$ when $z$ equals 2, what is the value of $x$ when $z$ equals $\\frac{1}{2}$?\n",
      "A. -1\n",
      "B. 16\n",
      "C. -\\frac{1}{256}\n",
      "D. \\frac{1}{16}\n",
      "Answer: C\n",
      "\n",
      "What is the range of the function $f(x) = \\frac{1}{1-x}$? Express your answer in interval notation.\n",
      "A. (-\\infty,-1)\\cup (1,\\infty)\n",
      "B. (-\\infty,0)\\cup (0,\\infty)\n",
      "C. [-1,1]\n",
      "D. (-1,1)\n",
      "Answer:\n",
      "\n",
      "Output 'A', 'B', 'C', or 'D'. Full answer not needed.\n",
      "The answer is: </s>\n",
      "++++++++++\n",
      "0\n",
      "--------------------------------------------------\n"
     ]
    }
   ],
   "source": [
    "for i in range(20):\n",
    "    print(f'Input {i+1}:')\n",
    "    print('=**********=')\n",
    "    print(math_benchmark.predictions['Input'][i])\n",
    "    print('=**********=')\n",
    "    print(f'Prediction {i+1}:')\n",
    "    print('++++++++++')\n",
    "    # print(results['Prediction'][i][results['Prediction'][i].find(\"\\n\\nOutput 'A', 'B', 'C', or 'D'. Full answer not needed.\")+55:])\n",
    "    print(math_results['Prediction'][i])\n",
    "    print('++++++++++')\n",
    "    print(math_results['Correct'][i])\n",
    "    print('-'*50)"
   ]
  },
  {
   "cell_type": "markdown",
   "metadata": {},
   "source": [
    "---"
   ]
  },
  {
   "cell_type": "markdown",
   "metadata": {},
   "source": [
    "# Results"
   ]
  },
  {
   "cell_type": "code",
   "execution_count": 9,
   "metadata": {},
   "outputs": [
    {
     "name": "stdout",
     "output_type": "stream",
     "text": [
      "\n",
      "Processing high_school_mathematics: 100%|█████| 270/270 [00:40<00:00,  6.60it/s]\n",
      "MMLU Task Accuracy (task=high_school_mathematics): 0.3037037037037037\n",
      "Processing abstract_algebra: 100%|████████████| 100/100 [00:13<00:00,  7.24it/s]\n",
      "MMLU Task Accuracy (task=abstract_algebra): 0.33\n",
      "Processing machine_learning: 100%|████████████| 112/112 [00:17<00:00,  6.49it/s]\n",
      "MMLU Task Accuracy (task=machine_learning): 0.45535714285714285\n",
      "Processing elementary_mathematics: 100%|██████| 378/378 [00:55<00:00,  6.85it/s]\n",
      "MMLU Task Accuracy (task=elementary_mathematics): 0.3412698412698413\n",
      "Processing college_mathematics: 100%|█████████| 100/100 [00:15<00:00,  6.30it/s]\n",
      "MMLU Task Accuracy (task=college_mathematics): 0.38\n",
      "Processing formal_logic: 100%|████████████████| 126/126 [00:24<00:00,  5.10it/s]\n",
      "MMLU Task Accuracy (task=formal_logic): 0.35714285714285715\n",
      "Processing high_school_statistics: 100%|██████| 216/216 [00:45<00:00,  4.78it/s]\n",
      "MMLU Task Accuracy (task=high_school_statistics): 0.4074074074074074\n",
      "Processing clinical_knowledge: 100%|██████████| 265/265 [00:37<00:00,  7.06it/s]\n",
      "MMLU Task Accuracy (task=clinical_knowledge): 0.6075471698113207\n",
      "Processing medical_genetics: 100%|████████████| 100/100 [00:13<00:00,  7.38it/s]\n",
      "MMLU Task Accuracy (task=medical_genetics): 0.62\n",
      "Processing anatomy: 100%|█████████████████████| 135/135 [00:19<00:00,  7.01it/s]\n",
      "MMLU Task Accuracy (task=anatomy): 0.45925925925925926\n",
      "Processing professional_medicine: 100%|███████| 272/272 [01:21<00:00,  3.32it/s]\n",
      "MMLU Task Accuracy (task=professional_medicine): 0.5625\n",
      "Processing college_biology: 100%|█████████████| 144/144 [00:23<00:00,  6.15it/s]\n",
      "MMLU Task Accuracy (task=college_biology): 0.5902777777777778\n",
      "Processing college_medicine: 100%|████████████| 173/173 [00:34<00:00,  5.00it/s]\n",
      "MMLU Task Accuracy (task=college_medicine): 0.49710982658959535\n",
      "Processing high_school_biology: 100%|█████████| 310/310 [00:51<00:00,  6.07it/s]\n",
      "MMLU Task Accuracy (task=high_school_biology): 0.6387096774193548\n",
      "Overall MMLU Accuracy: 0.47130692336171787\n",
      "--------------------------------------------------\n",
      "Overall score for Mistral 7B Instruct on all tasks: 0.47130692336171787\n",
      "\n"
     ]
    }
   ],
   "source": [
    "# Mistral 7B Instruct\n",
    "print(\"\"\"\n",
    "Processing high_school_mathematics: 100%|█████| 270/270 [00:40<00:00,  6.60it/s]\n",
    "MMLU Task Accuracy (task=high_school_mathematics): 0.3037037037037037\n",
    "Processing abstract_algebra: 100%|████████████| 100/100 [00:13<00:00,  7.24it/s]\n",
    "MMLU Task Accuracy (task=abstract_algebra): 0.33\n",
    "Processing machine_learning: 100%|████████████| 112/112 [00:17<00:00,  6.49it/s]\n",
    "MMLU Task Accuracy (task=machine_learning): 0.45535714285714285\n",
    "Processing elementary_mathematics: 100%|██████| 378/378 [00:55<00:00,  6.85it/s]\n",
    "MMLU Task Accuracy (task=elementary_mathematics): 0.3412698412698413\n",
    "Processing college_mathematics: 100%|█████████| 100/100 [00:15<00:00,  6.30it/s]\n",
    "MMLU Task Accuracy (task=college_mathematics): 0.38\n",
    "Processing formal_logic: 100%|████████████████| 126/126 [00:24<00:00,  5.10it/s]\n",
    "MMLU Task Accuracy (task=formal_logic): 0.35714285714285715\n",
    "Processing high_school_statistics: 100%|██████| 216/216 [00:45<00:00,  4.78it/s]\n",
    "MMLU Task Accuracy (task=high_school_statistics): 0.4074074074074074\n",
    "Processing clinical_knowledge: 100%|██████████| 265/265 [00:37<00:00,  7.06it/s]\n",
    "MMLU Task Accuracy (task=clinical_knowledge): 0.6075471698113207\n",
    "Processing medical_genetics: 100%|████████████| 100/100 [00:13<00:00,  7.38it/s]\n",
    "MMLU Task Accuracy (task=medical_genetics): 0.62\n",
    "Processing anatomy: 100%|█████████████████████| 135/135 [00:19<00:00,  7.01it/s]\n",
    "MMLU Task Accuracy (task=anatomy): 0.45925925925925926\n",
    "Processing professional_medicine: 100%|███████| 272/272 [01:21<00:00,  3.32it/s]\n",
    "MMLU Task Accuracy (task=professional_medicine): 0.5625\n",
    "Processing college_biology: 100%|█████████████| 144/144 [00:23<00:00,  6.15it/s]\n",
    "MMLU Task Accuracy (task=college_biology): 0.5902777777777778\n",
    "Processing college_medicine: 100%|████████████| 173/173 [00:34<00:00,  5.00it/s]\n",
    "MMLU Task Accuracy (task=college_medicine): 0.49710982658959535\n",
    "Processing high_school_biology: 100%|█████████| 310/310 [00:51<00:00,  6.07it/s]\n",
    "MMLU Task Accuracy (task=high_school_biology): 0.6387096774193548\n",
    "Overall MMLU Accuracy: 0.47130692336171787\n",
    "--------------------------------------------------\n",
    "Overall score for Mistral 7B Instruct on all tasks: 0.47130692336171787\n",
    "\"\"\")"
   ]
  },
  {
   "cell_type": "code",
   "execution_count": null,
   "metadata": {},
   "outputs": [
    {
     "name": "stdout",
     "output_type": "stream",
     "text": [
      "\n",
      "0-shot\n",
      "Processing high_school_biology: 100%|█████████| 310/310 [00:50<00:00,  6.08it/s]\n",
      "MMLU Task Accuracy (task=high_school_biology): 0.6387096774193548\n",
      "Processing medical_genetics: 100%|████████████| 100/100 [00:13<00:00,  7.39it/s]\n",
      "MMLU Task Accuracy (task=medical_genetics): 0.67\n",
      "Processing virology: 100%|████████████████████| 166/166 [00:22<00:00,  7.32it/s]\n",
      "MMLU Task Accuracy (task=virology): 0.4457831325301205\n",
      "Processing professional_medicine: 100%|███████| 272/272 [01:21<00:00,  3.33it/s]\n",
      "MMLU Task Accuracy (task=professional_medicine): 0.5514705882352942\n",
      "Processing nutrition: 100%|███████████████████| 306/306 [00:46<00:00,  6.54it/s]\n",
      "MMLU Task Accuracy (task=nutrition): 0.6045751633986928\n",
      "Processing anatomy: 100%|█████████████████████| 135/135 [00:19<00:00,  7.00it/s]\n",
      "MMLU Task Accuracy (task=anatomy): 0.4962962962962963\n",
      "Processing college_medicine: 100%|████████████| 173/173 [00:34<00:00,  5.01it/s]\n",
      "MMLU Task Accuracy (task=college_medicine): 0.5491329479768786\n",
      "Processing college_biology: 100%|█████████████| 144/144 [00:23<00:00,  6.12it/s]\n",
      "MMLU Task Accuracy (task=college_biology): 0.6180555555555556\n",
      "Overall MMLU Accuracy: 0.5759651307596513\n",
      "--------------------------------------------------\n",
      "Overall score for BioMistral 7B: 0.5759651307596513\n",
      "--------------------------------------------------\n",
      "3-shot\n",
      "Processing high_school_biology: 100%|█████████| 310/310 [02:42<00:00,  1.91it/s]\n",
      "MMLU Task Accuracy (task=high_school_biology): 0.6516129032258065\n",
      "Processing medical_genetics: 100%|████████████| 100/100 [00:50<00:00,  1.99it/s]\n",
      "MMLU Task Accuracy (task=medical_genetics): 0.65\n",
      "Processing virology: 100%|████████████████████| 166/166 [01:23<00:00,  1.99it/s]\n",
      "MMLU Task Accuracy (task=virology): 0.4819277108433735\n",
      "Processing professional_medicine: 100%|███████| 272/272 [02:57<00:00,  1.53it/s]\n",
      "MMLU Task Accuracy (task=professional_medicine): 0.5845588235294118\n",
      "Processing nutrition: 100%|███████████████████| 306/306 [02:38<00:00,  1.93it/s]\n",
      "MMLU Task Accuracy (task=nutrition): 0.5980392156862745\n",
      "Processing anatomy: 100%|█████████████████████| 135/135 [01:08<00:00,  1.97it/s]\n",
      "MMLU Task Accuracy (task=anatomy): 0.43703703703703706\n",
      "Processing college_medicine: 100%|████████████| 173/173 [01:38<00:00,  1.76it/s]\n",
      "MMLU Task Accuracy (task=college_medicine): 0.5953757225433526\n",
      "Processing college_biology: 100%|█████████████| 144/144 [01:16<00:00,  1.89it/s]\n",
      "MMLU Task Accuracy (task=college_biology): 0.5833333333333334\n",
      "Overall MMLU Accuracy: 0.5821917808219178\n",
      "--------------------------------------------------\n",
      "Overall score for BioMistral 7B: 0.5821917808219178\n",
      "--------------------------------------------------\n",
      "5-shot\n",
      "Processing high_school_biology: 100%|█████████| 310/310 [03:27<00:00,  1.49it/s]\n",
      "MMLU Task Accuracy (task=high_school_biology): 0.6612903225806451\n",
      "Processing medical_genetics: 100%|████████████| 100/100 [01:04<00:00,  1.54it/s]\n",
      "MMLU Task Accuracy (task=medical_genetics): 0.64\n",
      "Processing virology: 100%|████████████████████| 166/166 [01:48<00:00,  1.53it/s]\n",
      "MMLU Task Accuracy (task=virology): 0.45180722891566266\n",
      "Processing professional_medicine: 100%|███████| 272/272 [03:43<00:00,  1.22it/s]\n",
      "MMLU Task Accuracy (task=professional_medicine): 0.5845588235294118\n",
      "Processing nutrition: 100%|███████████████████| 306/306 [03:22<00:00,  1.51it/s]\n",
      "MMLU Task Accuracy (task=nutrition): 0.5784313725490197\n",
      "Processing anatomy: 100%|█████████████████████| 135/135 [01:28<00:00,  1.53it/s]\n",
      "MMLU Task Accuracy (task=anatomy): 0.43703703703703706\n",
      "Processing college_medicine: 100%|████████████| 173/173 [02:02<00:00,  1.42it/s]\n",
      "MMLU Task Accuracy (task=college_medicine): 0.5895953757225434\n",
      "Processing college_biology: 100%|█████████████| 144/144 [01:36<00:00,  1.49it/s]\n",
      "MMLU Task Accuracy (task=college_biology): 0.6041666666666666\n",
      "Overall MMLU Accuracy: 0.5778331257783312\n",
      "--------------------------------------------------\n",
      "Overall score for BioMistral 7B: 0.5778331257783312 \n",
      "\n"
     ]
    }
   ],
   "source": [
    "# BioMistral 7B\n",
    "print(\"\"\"\n",
    "0-shot\n",
    "Processing high_school_biology: 100%|█████████| 310/310 [00:50<00:00,  6.08it/s]\n",
    "MMLU Task Accuracy (task=high_school_biology): 0.6387096774193548\n",
    "Processing medical_genetics: 100%|████████████| 100/100 [00:13<00:00,  7.39it/s]\n",
    "MMLU Task Accuracy (task=medical_genetics): 0.67\n",
    "Processing virology: 100%|████████████████████| 166/166 [00:22<00:00,  7.32it/s]\n",
    "MMLU Task Accuracy (task=virology): 0.4457831325301205\n",
    "Processing professional_medicine: 100%|███████| 272/272 [01:21<00:00,  3.33it/s]\n",
    "MMLU Task Accuracy (task=professional_medicine): 0.5514705882352942\n",
    "Processing nutrition: 100%|███████████████████| 306/306 [00:46<00:00,  6.54it/s]\n",
    "MMLU Task Accuracy (task=nutrition): 0.6045751633986928\n",
    "Processing anatomy: 100%|█████████████████████| 135/135 [00:19<00:00,  7.00it/s]\n",
    "MMLU Task Accuracy (task=anatomy): 0.4962962962962963\n",
    "Processing college_medicine: 100%|████████████| 173/173 [00:34<00:00,  5.01it/s]\n",
    "MMLU Task Accuracy (task=college_medicine): 0.5491329479768786\n",
    "Processing college_biology: 100%|█████████████| 144/144 [00:23<00:00,  6.12it/s]\n",
    "MMLU Task Accuracy (task=college_biology): 0.6180555555555556\n",
    "Overall MMLU Accuracy: 0.5759651307596513\n",
    "--------------------------------------------------\n",
    "Overall score for BioMistral 7B: 0.5759651307596513\n",
    "--------------------------------------------------\n",
    "3-shot\n",
    "Processing high_school_biology: 100%|█████████| 310/310 [02:42<00:00,  1.91it/s]\n",
    "MMLU Task Accuracy (task=high_school_biology): 0.6516129032258065\n",
    "Processing medical_genetics: 100%|████████████| 100/100 [00:50<00:00,  1.99it/s]\n",
    "MMLU Task Accuracy (task=medical_genetics): 0.65\n",
    "Processing virology: 100%|████████████████████| 166/166 [01:23<00:00,  1.99it/s]\n",
    "MMLU Task Accuracy (task=virology): 0.4819277108433735\n",
    "Processing professional_medicine: 100%|███████| 272/272 [02:57<00:00,  1.53it/s]\n",
    "MMLU Task Accuracy (task=professional_medicine): 0.5845588235294118\n",
    "Processing nutrition: 100%|███████████████████| 306/306 [02:38<00:00,  1.93it/s]\n",
    "MMLU Task Accuracy (task=nutrition): 0.5980392156862745\n",
    "Processing anatomy: 100%|█████████████████████| 135/135 [01:08<00:00,  1.97it/s]\n",
    "MMLU Task Accuracy (task=anatomy): 0.43703703703703706\n",
    "Processing college_medicine: 100%|████████████| 173/173 [01:38<00:00,  1.76it/s]\n",
    "MMLU Task Accuracy (task=college_medicine): 0.5953757225433526\n",
    "Processing college_biology: 100%|█████████████| 144/144 [01:16<00:00,  1.89it/s]\n",
    "MMLU Task Accuracy (task=college_biology): 0.5833333333333334\n",
    "Overall MMLU Accuracy: 0.5821917808219178\n",
    "--------------------------------------------------\n",
    "Overall score for BioMistral 7B: 0.5821917808219178\n",
    "--------------------------------------------------\n",
    "5-shot\n",
    "Processing high_school_biology: 100%|█████████| 310/310 [03:27<00:00,  1.49it/s]\n",
    "MMLU Task Accuracy (task=high_school_biology): 0.6612903225806451\n",
    "Processing medical_genetics: 100%|████████████| 100/100 [01:04<00:00,  1.54it/s]\n",
    "MMLU Task Accuracy (task=medical_genetics): 0.64\n",
    "Processing virology: 100%|████████████████████| 166/166 [01:48<00:00,  1.53it/s]\n",
    "MMLU Task Accuracy (task=virology): 0.45180722891566266\n",
    "Processing professional_medicine: 100%|███████| 272/272 [03:43<00:00,  1.22it/s]\n",
    "MMLU Task Accuracy (task=professional_medicine): 0.5845588235294118\n",
    "Processing nutrition: 100%|███████████████████| 306/306 [03:22<00:00,  1.51it/s]\n",
    "MMLU Task Accuracy (task=nutrition): 0.5784313725490197\n",
    "Processing anatomy: 100%|█████████████████████| 135/135 [01:28<00:00,  1.53it/s]\n",
    "MMLU Task Accuracy (task=anatomy): 0.43703703703703706\n",
    "Processing college_medicine: 100%|████████████| 173/173 [02:02<00:00,  1.42it/s]\n",
    "MMLU Task Accuracy (task=college_medicine): 0.5895953757225434\n",
    "Processing college_biology: 100%|█████████████| 144/144 [01:36<00:00,  1.49it/s]\n",
    "MMLU Task Accuracy (task=college_biology): 0.6041666666666666\n",
    "Overall MMLU Accuracy: 0.5778331257783312\n",
    "--------------------------------------------------\n",
    "Overall score for BioMistral 7B: 0.5778331257783312 \n",
    "\"\"\")"
   ]
  },
  {
   "cell_type": "code",
   "execution_count": 17,
   "metadata": {},
   "outputs": [
    {
     "name": "stdout",
     "output_type": "stream",
     "text": [
      "All models are evaluated using zero-shot prediction.\n",
      "+-----------------------+---------------------+---------------+-------------+------------+-------------+------------+----------------+\n",
      "| Accuracy Metric       | Mistral 7B Instruct | BioMistral 7B | MetaMath 7B | BioLoRA 7B | MetaLoRA 7B | MetaBio 7B | MetaBioLoRA 7B |\n",
      "+=======================+=====================+===============+=============+============+=============+============+================+\n",
      "| Overall Score         | 0.47131             | 0.48019       | -           | -          | -           | 0.49897    | -              |\n",
      "+-----------------------+---------------------+---------------+-------------+------------+-------------+------------+----------------+\n",
      "| Overall Score - MATH  | 0.36784             | 0.36213       | -           | -          | -           | \u001b[32m0.36883\u001b[0m    | -              |\n",
      "+-----------------------+---------------------+---------------+-------------+------------+-------------+------------+----------------+\n",
      "| Overall Score - BIO   | 0.56791             | 0.59179       | -           | -          | -           | -          | -              |\n",
      "+-----------------------+---------------------+---------------+-------------+------------+-------------+------------+----------------+\n",
      "| HS Math               | -                   | -             | -           | -          | -           | -          | -              |\n",
      "+-----------------------+---------------------+---------------+-------------+------------+-------------+------------+----------------+\n",
      "| Abstract Algebra      | -                   | -             | -           | -          | -           | -          | -              |\n",
      "+-----------------------+---------------------+---------------+-------------+------------+-------------+------------+----------------+\n",
      "| Machine Learning      | -                   | -             | -           | -          | -           | -          | -              |\n",
      "+-----------------------+---------------------+---------------+-------------+------------+-------------+------------+----------------+\n",
      "| Elementary Math       | -                   | -             | -           | -          | -           | -          | -              |\n",
      "+-----------------------+---------------------+---------------+-------------+------------+-------------+------------+----------------+\n",
      "| College Math          | -                   | -             | -           | -          | -           | -          | -              |\n",
      "+-----------------------+---------------------+---------------+-------------+------------+-------------+------------+----------------+\n",
      "| Formal Logic          | -                   | -             | -           | -          | -           | -          | -              |\n",
      "+-----------------------+---------------------+---------------+-------------+------------+-------------+------------+----------------+\n",
      "| HS Stats              | -                   | -             | -           | -          | -           | -          | -              |\n",
      "+-----------------------+---------------------+---------------+-------------+------------+-------------+------------+----------------+\n",
      "| Clinical KG           | -                   | -             | -           | -          | -           | -          | -              |\n",
      "+-----------------------+---------------------+---------------+-------------+------------+-------------+------------+----------------+\n",
      "| Medical Genetics      | -                   | -             | -           | -          | -           | -          | -              |\n",
      "+-----------------------+---------------------+---------------+-------------+------------+-------------+------------+----------------+\n",
      "| Anatomy               | -                   | -             | -           | -          | -           | -          | -              |\n",
      "+-----------------------+---------------------+---------------+-------------+------------+-------------+------------+----------------+\n",
      "| Professional Medicine | -                   | -             | -           | -          | -           | -          | -              |\n",
      "+-----------------------+---------------------+---------------+-------------+------------+-------------+------------+----------------+\n",
      "| College Biology       | -                   | -             | -           | -          | -           | -          | -              |\n",
      "+-----------------------+---------------------+---------------+-------------+------------+-------------+------------+----------------+\n",
      "| College Medicine      | -                   | -             | -           | -          | -           | -          | -              |\n",
      "+-----------------------+---------------------+---------------+-------------+------------+-------------+------------+----------------+\n",
      "| HS Biology            | -                   | -             | -           | -          | -           | -          | -              |\n",
      "+-----------------------+---------------------+---------------+-------------+------------+-------------+------------+----------------+\n"
     ]
    }
   ],
   "source": [
    "# header = ['Model', 'Overall Score (0-shot)', 'Overall Score (3-shot)', 'Overall Score (5-shot)', 'Overall Score - MATH', 'Overall Score - BIO']\n",
    "# data = [\n",
    "#     # [metamath_7b.get_model_name(), math_benchmark.overall_score],\n",
    "#     ['Mistral 7B Instruct', 0.47131, '-', '-', '-', '-'],\n",
    "#     ['BioMistral 7B', 0.57597, 0.58219, 0.57783, '-', '-'],\n",
    "#     ['-', '-', '-', '-', '-', '-']\n",
    "# ]\n",
    "\n",
    "header = ['Accuracy Metric', 'Mistral 7B Instruct', 'BioMistral 7B', 'MetaMath 7B', 'BioLoRA 7B', 'MetaLoRA 7B', 'MetaBio 7B', 'MetaBioLoRA 7B']\n",
    "data = [\n",
    "    ['Overall Score', 0.47131, 0.48019, '-', '-', '-', 0.49897, '-'],\n",
    "    ['Overall Score - MATH', 0.36784, 0.36213, '-', '-', '-', '\\033[32m0.36883\\033[0m', '-'],\n",
    "    ['Overall Score - BIO', 0.56791, 0.59179, '-', '-', '-', '-', '-'],\n",
    "    ['HS Math', '-', '-', '-', '-', '-', '-', '-'],\n",
    "    ['Abstract Algebra', '-', '-', '-', '-', '-', '-', '-'],\n",
    "    ['Machine Learning', '-', '-', '-', '-', '-', '-', '-'],\n",
    "    ['Elementary Math', '-', '-', '-', '-', '-', '-', '-'],\n",
    "    ['College Math', '-', '-', '-', '-', '-', '-', '-'],\n",
    "    ['Formal Logic', '-', '-', '-', '-', '-', '-', '-'],\n",
    "    ['HS Stats', '-', '-', '-', '-', '-', '-', '-'],\n",
    "    ['Clinical KG', '-', '-', '-', '-', '-', '-', '-'],\n",
    "    ['Medical Genetics', '-', '-', '-', '-', '-', '-', '-'],\n",
    "    ['Anatomy', '-', '-', '-', '-', '-', '-', '-'],\n",
    "    ['Professional Medicine', '-', '-', '-', '-', '-', '-', '-'],\n",
    "    ['College Biology', '-', '-', '-', '-', '-', '-', '-'],\n",
    "    ['College Medicine', '-', '-', '-', '-', '-', '-', '-'],\n",
    "    ['HS Biology', '-', '-', '-', '-', '-', '-', '-']\n",
    "]\n",
    "\n",
    "print('All models are evaluated using zero-shot prediction.')\n",
    "tt.print(\n",
    "    data,\n",
    "    header=header,\n",
    "    style=tt.styles.ascii_thin_double,\n",
    "    padding=(0, 1),\n",
    "    #alignment=\"lcr\"\n",
    ")"
   ]
  },
  {
   "cell_type": "code",
   "execution_count": 20,
   "metadata": {},
   "outputs": [
    {
     "name": "stdout",
     "output_type": "stream",
     "text": [
      "MATH\n",
      "0.36784\n",
      "BIO\n",
      "0.56791\n"
     ]
    }
   ],
   "source": [
    "# Mistral 7B Instruct\n",
    "# MATH\n",
    "# MMLU Task Accuracy (task=high_school_mathematics): 0.3037037037037037\n",
    "# MMLU Task Accuracy (task=abstract_algebra): 0.33\n",
    "# MMLU Task Accuracy (task=machine_learning): 0.45535714285714285\n",
    "# MMLU Task Accuracy (task=elementary_mathematics): 0.3412698412698413\n",
    "# MMLU Task Accuracy (task=college_mathematics): 0.38\n",
    "# MMLU Task Accuracy (task=formal_logic): 0.35714285714285715\n",
    "# MMLU Task Accuracy (task=high_school_statistics): 0.4074074074074074\n",
    "# BIO\n",
    "# MMLU Task Accuracy (task=clinical_knowledge): 0.6075471698113207\n",
    "# MMLU Task Accuracy (task=medical_genetics): 0.62\n",
    "# MMLU Task Accuracy (task=anatomy): 0.45925925925925926\n",
    "# MMLU Task Accuracy (task=professional_medicine): 0.5625\n",
    "# MMLU Task Accuracy (task=college_biology): 0.5902777777777778\n",
    "# MMLU Task Accuracy (task=college_medicine): 0.49710982658959535\n",
    "# MMLU Task Accuracy (task=high_school_biology): 0.6387096774193548\n",
    "\n",
    "print('MATH')\n",
    "print(np.round((0.3037037037037037 + 0.33 + 0.45535714285714285 + 0.3412698412698413 + 0.38 + 0.35714285714285715 + 0.4074074074074074) / 7, 5))\n",
    "print('BIO')\n",
    "print(np.round((0.6075471698113207 + 0.62 + 0.45925925925925926 + 0.5625 + 0.5902777777777778 + 0.49710982658959535 + 0.6387096774193548) / 7, 5))"
   ]
  },
  {
   "cell_type": "code",
   "execution_count": 12,
   "metadata": {},
   "outputs": [
    {
     "name": "stdout",
     "output_type": "stream",
     "text": [
      "MATH\n",
      "0.36213\n",
      "BIO\n",
      "0.59179\n"
     ]
    }
   ],
   "source": [
    "# BioMistral 7B\n",
    "# MATH\n",
    "# MMLU Task Accuracy (task=high_school_mathematics): 0.3148148148148148\n",
    "# MMLU Task Accuracy (task=abstract_algebra): 0.3\n",
    "# MMLU Task Accuracy (task=machine_learning): 0.4642857142857143\n",
    "# MMLU Task Accuracy (task=elementary_mathematics): 0.34656084656084657\n",
    "# MMLU Task Accuracy (task=college_mathematics): 0.35\n",
    "# MMLU Task Accuracy (task=formal_logic): 0.3333333333333333\n",
    "# MMLU Task Accuracy (task=high_school_statistics): 0.42592592592592593\n",
    "# BIO\n",
    "# MMLU Task Accuracy (task=clinical_knowledge): 0.6188679245283019\n",
    "# MMLU Task Accuracy (task=medical_genetics): 0.67\n",
    "# MMLU Task Accuracy (task=anatomy): 0.4962962962962963\n",
    "# MMLU Task Accuracy (task=professional_medicine): 0.5514705882352942\n",
    "# MMLU Task Accuracy (task=college_biology): 0.6180555555555556\n",
    "# MMLU Task Accuracy (task=college_medicine): 0.5491329479768786\n",
    "# MMLU Task Accuracy (task=high_school_biology): 0.6387096774193548\n",
    "\n",
    "print('MATH')\n",
    "print(np.round((0.3148148148148148 + 0.3 + 0.4642857142857143 + 0.34656084656084657 + 0.35 + 0.3333333333333333 + 0.42592592592592593) / 7, 5))\n",
    "print('BIO')\n",
    "print(np.round((0.6188679245283019 + 0.67 + 0.4962962962962963 + 0.5514705882352942 + 0.6180555555555556 + 0.5491329479768786 + 0.6387096774193548) / 7, 5))"
   ]
  },
  {
   "cell_type": "code",
   "execution_count": 15,
   "metadata": {},
   "outputs": [
    {
     "data": {
      "text/plain": [
       "0.36883"
      ]
     },
     "execution_count": 15,
     "metadata": {},
     "output_type": "execute_result"
    }
   ],
   "source": [
    "# MetaBio\n",
    "# MATH\n",
    "np.round((0.307407 + 0.300000 + 0.482143 + 0.349206 + 0.360000 + 0.357143 + 0.425926) / 7, 5)"
   ]
  },
  {
   "cell_type": "code",
   "execution_count": null,
   "metadata": {},
   "outputs": [],
   "source": []
  }
 ],
 "metadata": {
  "kernelspec": {
   "display_name": "Python 3 (ipykernel)",
   "language": "python",
   "name": "python3"
  },
  "language_info": {
   "codemirror_mode": {
    "name": "ipython",
    "version": 3
   },
   "file_extension": ".py",
   "mimetype": "text/x-python",
   "name": "python",
   "nbconvert_exporter": "python",
   "pygments_lexer": "ipython3",
   "version": "3.9.18"
  }
 },
 "nbformat": 4,
 "nbformat_minor": 2
}
