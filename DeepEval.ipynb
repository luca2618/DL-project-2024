{
 "cells": [
  {
   "cell_type": "code",
   "execution_count": 11,
   "metadata": {},
   "outputs": [],
   "source": [
    "# ! pip install -U deepeval\n",
    "# ! pip install numpy\n",
    "# ! pip install transformers\n",
    "# ! pip3 install torch torchvision torchaudio"
   ]
  },
  {
   "cell_type": "code",
   "execution_count": 1,
   "metadata": {},
   "outputs": [],
   "source": [
    "# ! pip install sentencepiece\n",
    "# ! pip install tokenizers\n",
    "# ! pip install accelerate\n",
    "# ! pip install bitsandbytes\n",
    "# ! pip install vllm\n",
    "# ! pip install fraction\n",
    "# ! pip install protobuf"
   ]
  },
  {
   "cell_type": "code",
   "execution_count": 1,
   "metadata": {},
   "outputs": [
    {
     "name": "stderr",
     "output_type": "stream",
     "text": [
      "/zhome/25/7/186664/dl/lib64/python3.9/site-packages/deepeval/__init__.py:53: UserWarning: You are using deepeval version 1.5.9, however version 2.0 is available. You should consider upgrading via the \"pip install --upgrade deepeval\" command.\n",
      "  warnings.warn(\n"
     ]
    },
    {
     "name": "stdout",
     "output_type": "stream",
     "text": [
      "Using device: cuda\n"
     ]
    }
   ],
   "source": [
    "from deepeval.benchmarks import MMLU, TruthfulQA\n",
    "from deepeval.benchmarks.tasks import MMLUTask, TruthfulQATask\n",
    "from deepeval.benchmarks.modes import TruthfulQAMode\n",
    "from transformers import AutoModelForCausalLM, AutoTokenizer\n",
    "from deepeval.models.base_model import DeepEvalBaseLLM\n",
    "from typing import List\n",
    "import torch\n",
    "\n",
    "torch_device = 'cuda' if torch.cuda.is_available() else 'cpu'\n",
    "print(f\"Using device: {torch_device}\")"
   ]
  },
  {
   "cell_type": "code",
   "execution_count": 2,
   "metadata": {},
   "outputs": [
    {
     "data": {
      "application/vnd.jupyter.widget-view+json": {
       "model_id": "e1708f3dc63c4a03b1a60801ccc9d0a8",
       "version_major": 2,
       "version_minor": 0
      },
      "text/plain": [
       "Loading checkpoint shards:   0%|          | 0/2 [00:00<?, ?it/s]"
      ]
     },
     "metadata": {},
     "output_type": "display_data"
    }
   ],
   "source": [
    "blackhole_dir = #blackhole dirdd\n",
    "\n",
    "# model = AutoModelForCausalLM.from_pretrained(\"mistralai/Mistral-7B-v0.1\")\n",
    "# tokenizer = AutoTokenizer.from_pretrained(\"mistralai/Mistral-7B-v0.1\")\n",
    "# model = AutoModelForCausalLM.from_pretrained(\"mistralai/Mistral-7B-Instruct-v0.1\", cache_dir=blackhole_dir)\n",
    "# tokenizer = AutoTokenizer.from_pretrained(\"mistralai/Mistral-7B-Instruct-v0.1\", cache_dir=blackhole_dir)\n",
    "\n",
    "model = AutoModelForCausalLM.from_pretrained(\"meta-math/MetaMath-Mistral-7B\", cache_dir=blackhole_dir)\n",
    "tokenizer = AutoTokenizer.from_pretrained(\"meta-math/MetaMath-Mistral-7B\", cache_dir=blackhole_dir)"
   ]
  },
  {
   "cell_type": "code",
   "execution_count": 97,
   "metadata": {},
   "outputs": [],
   "source": [
    "class Mistral7B(DeepEvalBaseLLM):\n",
    "    def __init__(\n",
    "        self,\n",
    "        model,\n",
    "        tokenizer\n",
    "    ):\n",
    "        self.model = model\n",
    "        self.tokenizer = tokenizer\n",
    "\n",
    "    def load_model(self):\n",
    "        return self.model\n",
    "\n",
    "    def generate(self, prompt: str) -> str:\n",
    "        model = self.load_model()\n",
    "\n",
    "        device = \"cuda\" # the device to load the model onto \n",
    "\n",
    "        # prompt = \"[INST] \" + prompt + \" [/INST]\"\n",
    "        prompt = prompt + \"\\nYou will only respond with a JSON object with the keys Explanation and Answer Choice, where Explanation is a string and Answer Choice is either 'A', 'B', 'C' or 'D'.\"\n",
    "\n",
    "        model_inputs = self.tokenizer([prompt], return_tensors=\"pt\").to(device)\n",
    "        model.to(device)\n",
    "\n",
    "        generated_ids = model.generate(**model_inputs, max_new_tokens=100, do_sample=True, pad_token_id=self.tokenizer.eos_token_id)#, temperature=0.0001)\n",
    "        decoded_tokens = self.tokenizer.batch_decode(generated_ids)[0]\n",
    "        # return decoded_tokens[len(prompt)-50:]\n",
    "        return decoded_tokens\n",
    "        return decoded_tokens[len(prompt):]\n",
    "        return decoded_tokens[len(prompt)+5:]\n",
    "        return self.tokenizer.batch_decode(generated_ids)[0]\n",
    "\n",
    "    async def a_generate(self, prompt: str) -> str:\n",
    "        return self.generate(prompt)\n",
    "\n",
    "    # This is optional.\n",
    "    def batch_generate(self, promtps: List[str]) -> List[str]:\n",
    "        model = self.load_model()\n",
    "        device = \"cuda\" # the device to load the model onto\n",
    "\n",
    "        model_inputs = self.tokenizer(promtps, return_tensors=\"pt\").to(device)\n",
    "        model.to(device)\n",
    "\n",
    "        generated_ids = model.generate(**model_inputs, max_new_tokens=100, do_sample=True)\n",
    "        return self.tokenizer.batch_decode(generated_ids)\n",
    "\n",
    "    def get_model_name(self):\n",
    "        return \"Mistral 7B\"\n",
    "\n",
    "mistral_7b = Mistral7B(model=model, tokenizer=tokenizer)\n",
    "# print(mistral_7b.generate(\"Write me a joke\"))"
   ]
  },
  {
   "cell_type": "code",
   "execution_count": 98,
   "metadata": {},
   "outputs": [
    {
     "name": "stdout",
     "output_type": "stream",
     "text": [
      "<s> Hello! What is 5 minus 2?\n",
      "A. 3\n",
      "B. 5\n",
      "C. 25\n",
      "D. 50\n",
      "Answer: \n",
      "\n",
      "Output only 'A', 'B', 'C', or 'D'.\n",
      "You will only respond with a JSON object with the keys Explanation and Answer Choice, where Explanation is a string and Answer Choice is either 'A', 'B', 'C' or 'D'.\n",
      "The answer is: </s>\n"
     ]
    }
   ],
   "source": [
    "print(mistral_7b.generate(\"Hello! What is 5 minus 2?\\nA. 3\\nB. 5\\nC. 25\\nD. 50\\nAnswer: \\n\\nOutput only 'A', 'B', 'C', or 'D'.\"))"
   ]
  },
  {
   "cell_type": "code",
   "execution_count": 99,
   "metadata": {},
   "outputs": [
    {
     "name": "stdout",
     "output_type": "stream",
     "text": [
      "<s> The following are multiple choice questions (with answers) about high school biology.\n",
      "\n",
      "Which of the following is not a way to form recombinant DNA?\n",
      "A. Translation\n",
      "B. Conjugation\n",
      "C. Specialized transduction\n",
      "D. Transformation\n",
      "Answer: \n",
      "You will only respond with a JSON object with the keys Explanation and Answer Choice, where Explanation is a string and Answer Choice is either 'A', 'B', 'C' or 'D'.\n",
      "\n",
      "The answer is: D</s>\n"
     ]
    }
   ],
   "source": [
    "print(mistral_7b.generate(\"The following are multiple choice questions (with answers) about high school biology.\\n\\nWhich of the following is not a way to form recombinant DNA?\\nA. Translation\\nB. Conjugation\\nC. Specialized transduction\\nD. Transformation\\nAnswer: \"))"
   ]
  },
  {
   "cell_type": "code",
   "execution_count": 100,
   "metadata": {},
   "outputs": [
    {
     "name": "stdout",
     "output_type": "stream",
     "text": [
      "<s> If a pentagon P with vertices at (– 2, – 4), (– 4, 1), (–1, 4), (2, 4), and (3, 0) is reflected across the line y = x to get a new pentagon, P’, then one of the vertices of P’ is\n",
      "A. (0, – 3)\n",
      "B. (4, 1)\n",
      "C. (2, 2)\n",
      "D. (– 4, –2)\n",
      "Answer:\n",
      "You will only respond with a JSON object with the keys Explanation and Answer Choice, where Explanation is a string and Answer Choice is either 'A', 'B', 'C' or 'D'.  The answer is: A</s>\n"
     ]
    }
   ],
   "source": [
    "print(mistral_7b.generate(\"If a pentagon P with vertices at (– 2, – 4), (– 4, 1), (–1, 4), (2, 4), and (3, 0) is reflected across the line y = x to get a new pentagon, P’, then one of the vertices of P’ is\\nA. (0, – 3)\\nB. (4, 1)\\nC. (2, 2)\\nD. (– 4, –2)\\nAnswer:\"))"
   ]
  },
  {
   "cell_type": "code",
   "execution_count": 15,
   "metadata": {},
   "outputs": [],
   "source": [
    "mm_tasks = [MMLUTask.HIGH_SCHOOL_MATHEMATICS] #, MMLUTask.HIGH_SCHOOL_BIOLOGY]\n",
    "tqa_tasks = [TruthfulQATask.SCIENCE]\n",
    "tqa_mode = TruthfulQAMode.MC1 # Use MC1 as a benchmark for pinpoint accuracy and MC2 for depth of understanding.\n",
    "\n",
    "# Define benchmark with specific tasks and shots\n",
    "benchmark = MMLU(\n",
    "    tasks=mm_tasks,\n",
    "    n_shots=3\n",
    ")\n",
    "\n",
    "TQABenchmark = TruthfulQA(\n",
    "    tasks=tqa_tasks,\n",
    "    mode=tqa_mode\n",
    ")"
   ]
  },
  {
   "cell_type": "code",
   "execution_count": 16,
   "metadata": {},
   "outputs": [
    {
     "name": "stderr",
     "output_type": "stream",
     "text": [
      "Processing high_school_mathematics: 100%|█████| 270/270 [02:23<00:00,  1.88it/s]"
     ]
    },
    {
     "name": "stdout",
     "output_type": "stream",
     "text": [
      "MMLU Task Accuracy (task=high_school_mathematics): 0.0\n",
      "Overall MMLU Accuracy: 0.0\n",
      "0.0\n"
     ]
    },
    {
     "name": "stderr",
     "output_type": "stream",
     "text": [
      "\n"
     ]
    }
   ],
   "source": [
    "# Replace 'mistral_7b' with your own custom model\n",
    "benchmark.evaluate(model=mistral_7b)\n",
    "results = benchmark.predictions\n",
    "print(benchmark.overall_score)"
   ]
  },
  {
   "cell_type": "code",
   "execution_count": 17,
   "metadata": {},
   "outputs": [
    {
     "name": "stdout",
     "output_type": "stream",
     "text": [
      "Input 1:\n",
      "=**********=\n",
      "If a pentagon P with vertices at (– 2, – 4), (– 4, 1), (–1, 4), (2, 4), and (3, 0) is reflected across the line y = x to get a new pentagon, P’, then one of the vertices of P’ is\n",
      "A. (0, – 3)\n",
      "B. (4, 1)\n",
      "C. (2, 2)\n",
      "D. (– 4, –2)\n",
      "Answer:\n",
      "=**********=\n",
      "Prediction 1:\n",
      "++++++++++\n",
      "NST]</s>\n",
      "--------------------------------------------------\n",
      "Input 2:\n",
      "=**********=\n",
      "The length of a rectangle is twice its width. Given the length of the diagonal is $5\\sqrt{5}$, find the area of the rectangle.\n",
      "A. 2500\n",
      "B. 2\n",
      "C. 50\n",
      "D. 25\n",
      "Answer:\n",
      "=**********=\n",
      "Prediction 2:\n",
      "++++++++++\n",
      "NST]</s>\n",
      "--------------------------------------------------\n",
      "Input 3:\n",
      "=**********=\n",
      "A positive integer n is called “powerful” if, for every prime factor p of n, p^2 is also a factor of n. An example of a powerful number is\n",
      "A. 392\n",
      "B. 336\n",
      "C. 300\n",
      "D. 297\n",
      "Answer:\n",
      "=**********=\n",
      "Prediction 3:\n",
      "++++++++++\n",
      "NST]</s>\n",
      "--------------------------------------------------\n",
      "Input 4:\n",
      "=**********=\n",
      "At breakfast, lunch, and dinner, Joe randomly chooses with equal probabilities either an apple, an orange, or a banana to eat. On a given day, what is the probability that Joe will eat at least two different kinds of fruit?\n",
      "A. \\frac{7}{9}\n",
      "B. \\frac{8}{9}\n",
      "C. \\frac{5}{9}\n",
      "D. \\frac{9}{11}\n",
      "Answer:\n",
      "=**********=\n",
      "Prediction 4:\n",
      "++++++++++\n",
      "NST]</s>\n",
      "--------------------------------------------------\n",
      "Input 5:\n",
      "=**********=\n",
      "Suppose $f(x)$ is a function that has this property: For all real numbers $a$ and $b$ such that $a<b$, the portion of the graph of $y=f(x)$ between $x=a$ and $x=b$ lies below the line segment whose endpoints are $(a,f(a))$ and $(b,f(b))$. (A function with this property is called strictly convex.) Given that $f(x)$ passes through $(-2,5)$ and $(2,9)$, what is the range of all possible values for $f(1)$? Express your answer in interval notation.\n",
      "A. (-inf, 10)\n",
      "B. (-inf, 9)\n",
      "C. (-inf, 8)\n",
      "D. (-inf, 7)\n",
      "Answer:\n",
      "=**********=\n",
      "Prediction 5:\n",
      "++++++++++\n",
      "NST]\n",
      "The answer is: </s>\n",
      "--------------------------------------------------\n",
      "Input 6:\n",
      "=**********=\n",
      "John divided his souvenir hat pins into two piles. The two piles had an equal number of pins. He gave his brother one-half of one-third of one pile. John had 66 pins left. How many pins did John originally have?\n",
      "A. 396\n",
      "B. 72\n",
      "C. 66\n",
      "D. 36\n",
      "Answer:\n",
      "=**********=\n",
      "Prediction 6:\n",
      "++++++++++\n",
      "NST]</s>\n",
      "--------------------------------------------------\n",
      "Input 7:\n",
      "=**********=\n",
      "A meteorologist reports that there is a 30% probability of rain and no sun. If there is a 40% probability of no rain, then the probability of both rain and sun is\n",
      "A. 0.16\n",
      "B. 0.24\n",
      "C. 0.3\n",
      "D. 0.5\n",
      "Answer:\n",
      "=**********=\n",
      "Prediction 7:\n",
      "++++++++++\n",
      "NST]</s>\n",
      "--------------------------------------------------\n",
      "Input 8:\n",
      "=**********=\n",
      "What is the sum of all positive integer values of $n$ such that $n^2$ is a factor of $1200$?\n",
      "A. 42\n",
      "B. 12\n",
      "C. 36\n",
      "D. 39\n",
      "Answer:\n",
      "=**********=\n",
      "Prediction 8:\n",
      "++++++++++\n",
      "NST]</s>\n",
      "--------------------------------------------------\n",
      "Input 9:\n",
      "=**********=\n",
      "We roll a fair 6-sided die 5 times. What is the probability that we get a 6 in at most 2 of the rolls?\n",
      "A. \\frac{125}{648}\n",
      "B. \\frac{25}{648}\n",
      "C. \\frac{625}{648}\n",
      "D. \\frac{1}{648}\n",
      "Answer:\n",
      "=**********=\n",
      "Prediction 9:\n",
      "++++++++++\n",
      "NST]</s>\n",
      "--------------------------------------------------\n",
      "Input 10:\n",
      "=**********=\n",
      "How many arithmetic sequences of consecutive odd integers sum to 240?\n",
      "A. 8\n",
      "B. 12\n",
      "C. 10\n",
      "D. 4\n",
      "Answer:\n",
      "=**********=\n",
      "Prediction 10:\n",
      "++++++++++\n",
      "NST]</s>\n",
      "--------------------------------------------------\n",
      "Input 11:\n",
      "=**********=\n",
      "Positive integers $x$ and $y$ have a product of 56 and $x < y$. Seven times the reciprocal of the smaller integer plus 14 times the reciprocal of the larger integer equals 4. What is the value of $x$?\n",
      "A. 13\n",
      "B. 14\n",
      "C. 1\n",
      "D. 2\n",
      "Answer:\n",
      "=**********=\n",
      "Prediction 11:\n",
      "++++++++++\n",
      "NST]</s>\n",
      "--------------------------------------------------\n",
      "Input 12:\n",
      "=**********=\n",
      "Given that $n > 1$, what is the smallest positive integer $n$ whose positive divisors have a product of $n^6$?\n",
      "A. 30\n",
      "B. 64\n",
      "C. 2048\n",
      "D. 60\n",
      "Answer:\n",
      "=**********=\n",
      "Prediction 12:\n",
      "++++++++++\n",
      "NST]</s>\n",
      "--------------------------------------------------\n",
      "Input 13:\n",
      "=**********=\n",
      "What is the remainder when $2^{87} +3$ is divided by $7$?\n",
      "A. 0\n",
      "B. 1\n",
      "C. 2\n",
      "D. 4\n",
      "Answer:\n",
      "=**********=\n",
      "Prediction 13:\n",
      "++++++++++\n",
      "NST]</s>\n",
      "--------------------------------------------------\n",
      "Input 14:\n",
      "=**********=\n",
      "Jane's quiz scores were 98, 97, 92, 85 and 93. What was her mean score?\n",
      "A. 92\n",
      "B. 93\n",
      "C. 94.5\n",
      "D. 95\n",
      "Answer:\n",
      "=**********=\n",
      "Prediction 14:\n",
      "++++++++++\n",
      "NST]</s>\n",
      "--------------------------------------------------\n",
      "Input 15:\n",
      "=**********=\n",
      "Suppose the graph of f is both increasing and concave up on a <= x <= b. Then, using the same number of subdivisions, and with L, R, M, and T denoting, respectively, left, right, midpoint, and trapezoid sums, it follows that\n",
      "A. R <= T <= M <= L\n",
      "B. L <= T <= M <= R\n",
      "C. R <= M <= T <= L\n",
      "D. L <= M <= T <= R\n",
      "Answer:\n",
      "=**********=\n",
      "Prediction 15:\n",
      "++++++++++\n",
      "NST]\n",
      "The answer is: </s>\n",
      "--------------------------------------------------\n",
      "Input 16:\n",
      "=**********=\n",
      "An ant crawls straight from $(-4,6)$ to the origin, and then continues straight on to $(4,3)$. How far does it travel?\n",
      "A. 16\n",
      "B. 2\\sqrt{2}\n",
      "C. 5\n",
      "D. 5+2\\sqrt{13}\n",
      "Answer:\n",
      "=**********=\n",
      "Prediction 16:\n",
      "++++++++++\n",
      "NST]</s>\n",
      "--------------------------------------------------\n",
      "Input 17:\n",
      "=**********=\n",
      "Let $n$ be the product of the two smallest 3-digit prime numbers. Find the sum of the digits of $n$.\n",
      "A. 8\n",
      "B. 3\n",
      "C. 6\n",
      "D. 9\n",
      "Answer:\n",
      "=**********=\n",
      "Prediction 17:\n",
      "++++++++++\n",
      "NST]</s>\n",
      "--------------------------------------------------\n",
      "Input 18:\n",
      "=**********=\n",
      "The polynomial which results from the expansion of $(x^2+5x+6)^2+(px+q)(x^3+7x^2+3x)$ has degree $2$. Find $p+q$.\n",
      "A. -2\n",
      "B. -4\n",
      "C. -1\n",
      "D. 1\n",
      "Answer:\n",
      "=**********=\n",
      "Prediction 18:\n",
      "++++++++++\n",
      "NST]</s>\n",
      "--------------------------------------------------\n",
      "Input 19:\n",
      "=**********=\n",
      "If $f(x)=ax^6-bx^4+x-1$ and $f(2)=5$, then what is the value of $f(-2)$?\n",
      "A. 1\n",
      "B. 3\n",
      "C. 0\n",
      "D. 5\n",
      "Answer:\n",
      "=**********=\n",
      "Prediction 19:\n",
      "++++++++++\n",
      "NST]</s>\n",
      "--------------------------------------------------\n",
      "Input 20:\n",
      "=**********=\n",
      "What is the range of the function $f(x) = \\frac{1}{1-x}$? Express your answer in interval notation.\n",
      "A. (-\\infty,-1)\\cup (1,\\infty)\n",
      "B. (-\\infty,0)\\cup (0,\\infty)\n",
      "C. [-1,1]\n",
      "D. (-1,1)\n",
      "Answer:\n",
      "=**********=\n",
      "Prediction 20:\n",
      "++++++++++\n",
      "NST]</s>\n",
      "--------------------------------------------------\n"
     ]
    }
   ],
   "source": [
    "for i in range(20):\n",
    "    print(f'Input {i+1}:')\n",
    "    print('=**********=')\n",
    "    print(benchmark.predictions['Input'][i])\n",
    "    print('=**********=')\n",
    "    print(f'Prediction {i+1}:')\n",
    "    print('++++++++++')\n",
    "    # print(results['Prediction'][i][results['Prediction'][i].find(\"\\n\\nOutput 'A', 'B', 'C', or 'D'. Full answer not needed.\")+55:])\n",
    "    print(results['Prediction'][i])\n",
    "    print('-'*50)"
   ]
  },
  {
   "cell_type": "code",
   "execution_count": 87,
   "metadata": {},
   "outputs": [
    {
     "data": {
      "text/plain": [
       "'If a pentagon P with vertices at (– 2, – 4), (– 4, 1), (–1, 4), (2, 4), and (3, 0) is reflected across the line y = x to get a new pentagon, P’, then one of the vertices of P’ is\\nA. (0, – 3)\\nB. (4, 1)\\nC. (2, 2)\\nD. (– 4, –2)\\nAnswer:'"
      ]
     },
     "execution_count": 87,
     "metadata": {},
     "output_type": "execute_result"
    }
   ],
   "source": [
    "results['Input'][0]"
   ]
  },
  {
   "cell_type": "code",
   "execution_count": 31,
   "metadata": {},
   "outputs": [
    {
     "name": "stdout",
     "output_type": "stream",
     "text": [
      "<s> [INST] The following are multiple choice questions (with answers) about high school mathematics.\n",
      "\n",
      "Joe was in charge of lights for a dance. The red light blinks every two seconds, the yellow light every three seconds, and the blue light every five seconds. If we include the very beginning and very end of the dance, how many times during a seven minute dance will all the lights come on at the same time? (Assume that all three lights blink simultaneously at the very beginning of the dance.)\n",
      "A. 3\n",
      "B. 15\n",
      "C. 6\n",
      "D. 5\n",
      "Answer: B\n",
      "\n",
      "Five thousand dollars compounded annually at an $x\\%$ interest rate takes six years to double. At the same interest rate, how many years will it take $\\$300$ to grow to $\\$9600$?\n",
      "A. 12\n",
      "B. 1\n",
      "C. 30\n",
      "D. 5\n",
      "Answer: C\n",
      "\n",
      "The variable $x$ varies directly as the square of $y$, and $y$ varies directly as the cube of $z$. If $x$ equals $-16$ when $z$ equals 2, what is the value of $x$ when $z$ equals $\\frac{1}{2}$?\n",
      "A. -1\n",
      "B. 16\n",
      "C. -\\frac{1}{256}\n",
      "D. \\frac{1}{16}\n",
      "Answer: C\n",
      "\n",
      "If a pentagon P with vertices at (– 2, – 4), (– 4, 1), (–1, 4), (2, 4), and (3, 0) is reflected across the line y = x to get a new pentagon, P’, then one of the vertices of P’ is\n",
      "A. (0, – 3)\n",
      "B. (4, 1)\n",
      "C. (2, 2)\n",
      "D. (– 4, –2)\n",
      "Answer:\n",
      "\n",
      "Output 'A', 'B', 'C', or 'D'. Full answer not needed. [/INST]</s>\n"
     ]
    }
   ],
   "source": [
    "print(results['Prediction'][0])"
   ]
  },
  {
   "cell_type": "code",
   "execution_count": 57,
   "metadata": {},
   "outputs": [
    {
     "data": {
      "text/plain": [
       "''"
      ]
     },
     "execution_count": 57,
     "metadata": {},
     "output_type": "execute_result"
    }
   ],
   "source": [
    "# benchmark.predictions['Prediction'][0].count('\\nAnswer:')\n",
    "benchmark.predictions['Prediction'][0] # [benchmark.predictions['Prediction'][0].find('\\nAnswer:')+9:]"
   ]
  },
  {
   "cell_type": "code",
   "execution_count": 29,
   "metadata": {},
   "outputs": [],
   "source": [
    "# results = benchmark.evaluate(model=mistral_7b, batch_size=5)\n",
    "# print(\"Overall Score: \", results)"
   ]
  },
  {
   "cell_type": "code",
   "execution_count": null,
   "metadata": {},
   "outputs": [],
   "source": []
  }
 ],
 "metadata": {
  "kernelspec": {
   "display_name": "Python 3 (ipykernel)",
   "language": "python",
   "name": "python3"
  }
 },
 "nbformat": 4,
 "nbformat_minor": 2
}
